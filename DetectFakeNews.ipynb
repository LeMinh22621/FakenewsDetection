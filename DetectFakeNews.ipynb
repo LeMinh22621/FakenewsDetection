{
  "cells": [
    {
      "cell_type": "code",
      "execution_count": 1,
      "metadata": {
        "colab": {
          "base_uri": "https://localhost:8080/"
        },
        "id": "ZVbn4GehwHwr",
        "outputId": "a504e690-b134-4545-feba-8d66c4f48a3c"
      },
      "outputs": [
        {
          "name": "stdout",
          "output_type": "stream",
          "text": [
            "[nltk_data] Downloading package punkt to\n",
            "[nltk_data]     C:\\Users\\admin\\AppData\\Roaming\\nltk_data...\n",
            "[nltk_data]   Package punkt is already up-to-date!\n"
          ]
        }
      ],
      "source": [
        "import nltk\n",
        "nltk.download('punkt')\n",
        "\n",
        "import tensorflow as tf\n",
        "import pandas as pd\n",
        "import numpy as np\n",
        "import matplotlib.pyplot as plt\n",
        "import seaborn as sns\n",
        "from wordcloud import WordCloud, STOPWORDS\n",
        "import re\n",
        "from nltk.stem import PorterStemmer, WordNetLemmatizer\n",
        "from nltk.corpus import stopwords\n",
        "from nltk.tokenize import word_tokenize, sent_tokenize\n",
        "import gensim\n",
        "from gensim.utils import simple_preprocess\n",
        "from gensim.parsing.preprocessing import STOPWORDS\n",
        "from tensorflow.keras.preprocessing.text import one_hot, Tokenizer\n",
        "from tensorflow.keras.preprocessing.sequence import pad_sequences\n",
        "from tensorflow.keras.models import Sequential\n",
        "from tensorflow.keras.layers import Dense, Flatten, Embedding, Input, LSTM, Conv1D, MaxPool1D, Bidirectional\n",
        "from tensorflow.keras.models import Model\n",
        "import plotly.express as px\n",
        "from sklearn.model_selection import train_test_split\n",
        "from nltk import word_tokenize\n",
        "from sklearn.metrics import accuracy_score\n",
        "from sklearn.metrics import confusion_matrix"
      ]
    },
    {
      "cell_type": "code",
      "execution_count": null,
      "metadata": {
        "colab": {
          "base_uri": "https://localhost:8080/",
          "height": 310
        },
        "id": "Yj6a-78W0riw",
        "outputId": "ea1319eb-422b-4997-9aa6-34c1f8238243"
      },
      "outputs": [],
      "source": [
        "df_fake = pd.read_csv(\"Fake.csv\")\n",
        "df_true = pd.read_csv(\"True.csv\")\n",
        "\n",
        "df_fake = df_fake[9052:15891]\n",
        "df_true = df_true[:11272]\n",
        "\n",
        "df_true['isfake'] = 0\n",
        "df_fake['isfake'] = 1\n",
        "\n",
        "df = pd.concat([df_true, df_fake]).reset_index(drop=True)\n",
        "\n",
        "df.drop(columns=['date'], inplace=True)\n",
        "\n",
        "# combine title and text together\n",
        "df['original'] = df['title'] + ' ' + df['text']\n",
        "df_true.tail()"
      ]
    },
    {
      "cell_type": "code",
      "execution_count": 19,
      "metadata": {},
      "outputs": [
        {
          "data": {
            "text/plain": [
              "'WATCH YOUNG TEENAGE THUGS AS THEY ROB FEMALE REPORTER Filming #BaltimoreRiots Because nothing says  justice  for Freddie Gray like a large group of teenage thugs descending on a defenseless woman and stealing her purse A producer for Ruptly, a video news service run by RT (formerly Russia Today), was robbed on camera while filming the violent protests in Baltimore overnight.The dramatic video shows the female victim first surrounded and harassed by a group of youths, who rapidly grow bolder reaching out at her, all the while hurling a stream of vulgarity and ranting about the police. She is then clearly physically attacked by the group. As the video stabilizes you see that the producer is chasing the thieves down the street trying to retrieve her stolen bag before the intervention of the Baltimore police.The protests in Baltimore over the death of Freddie Gray while in custody turned into violent riots overnight Saturday into Sunday morning. So much so that 30,000 people were locked down in Camden Yards.As Twitchy notes, at the time of the lockdown President Obama was delivering jokes to the mainstream media and assorted celebrities about a half hour away.Toward the end of the video, the woman who was robbed can be heard sobbing as she continues to film.Via: RT Ruptly'"
            ]
          },
          "execution_count": 19,
          "metadata": {},
          "output_type": "execute_result"
        }
      ],
      "source": [
        "df['original'][18000]"
      ]
    },
    {
      "cell_type": "code",
      "execution_count": 3,
      "metadata": {
        "colab": {
          "base_uri": "https://localhost:8080/"
        },
        "id": "G9wQkgj7zDYI",
        "outputId": "90c2d632-3eed-4b99-848b-a5c57c7ba29f"
      },
      "outputs": [
        {
          "name": "stdout",
          "output_type": "stream",
          "text": [
            "[nltk_data] Downloading package stopwords to\n",
            "[nltk_data]     C:\\Users\\admin\\AppData\\Roaming\\nltk_data...\n",
            "[nltk_data]   Package stopwords is already up-to-date!\n"
          ]
        }
      ],
      "source": [
        "# Standardize text data\n",
        "# def removeCharacter(row):\n",
        "#     # xoa dau cham, phay, hoi o cuoi cau.\n",
        "#     row = re.sub(r\"[\\.,\\?]+$\", \"\", row)\n",
        "#     row = row.replace(\",\", \" \").replace(\".\", \" \")\\\n",
        "#         .replace(\";\", \" \").replace(\"“\", \" \")\\\n",
        "#         .replace(\":\", \" \").replace(\"”\", \" \")\\\n",
        "#         .replace('\"', \" \").replace(\"'\", \" \")\\\n",
        "#         .replace(\"!\", \" \").replace(\"?\", \" \")\\\n",
        "#         .replace(\">\", \" \").replace(\"<\", \" \")\\\n",
        "#         .replace(\")\", \" \").replace(\"(\", \" \")\\\n",
        "#         .replace(\"-\", \" \").replace(\"+\", \" \")\n",
        "#     return row.strip()\n",
        "def toLowerCase(row):\n",
        "    row = row.lower()\n",
        "    return row\n",
        "\n",
        "def removeLinkSpam(row):\n",
        "    row = re.sub(r'http[s]?://\\S+', '', row)\n",
        "    return row\n",
        "\n",
        "# read_file = pd.read_csv (r'teencode.csv')\n",
        "# codes = list(read_file.codes)\n",
        "# means = list(read_file.means)\n",
        "# def standaCacTuVietTat(row):\n",
        "#     stri = (\"|\".join(codes))\n",
        "#     lis = set(re.findall(stri, row))\n",
        "#     rows = set(row.split())\n",
        "#     lis = list(lis.intersection(rows))\n",
        "#     for i in lis:\n",
        "#         index = codes.index(i)\n",
        "#         val = means[index]\n",
        "#         row = re.sub(rf\"{i}\", val, row)\n",
        "#     return row\n",
        "\n",
        "nltk.download(\"stopwords\")\n",
        "# Obtain additional stopwords from nltk\n",
        "stop_words = stopwords.words('english')\n",
        "stop_words.extend(['from', 'subject', 're', 'edu', 'use'])\n",
        "# Remove stopwords and remove words with 2 or less characters\n",
        "def preprocess(text):\n",
        "    result = []\n",
        "    for token in gensim.utils.simple_preprocess(text):\n",
        "        if token not in gensim.parsing.preprocessing.STOPWORDS and len(token) > 3 and token not in stop_words:\n",
        "            result.append(token)\n",
        "\n",
        "    return result\n",
        "\n",
        "def pre_process(row):\n",
        "    row = removeLinkSpam(row)\n",
        "    \n",
        "    row = toLowerCase(row)\n",
        "    \n",
        "    row = preprocess(row)\n",
        "\n",
        "    return row\n"
      ]
    },
    {
      "cell_type": "code",
      "execution_count": null,
      "metadata": {
        "colab": {
          "base_uri": "https://localhost:8080/",
          "height": 123
        },
        "id": "AbnHUB3Y03iu",
        "outputId": "1ff51f80-3eb7-4f89-d120-3e0e030be046"
      },
      "outputs": [],
      "source": [
        "# Apply the function to the dataframe\n",
        "df['clean'] = df['original'].apply(pre_process)\n",
        "\n",
        "list_of_words = []\n",
        "for i in df.clean:\n",
        "    for j in i:\n",
        "        list_of_words.append(j)\n",
        "\n",
        "total_words = len(list(set(list_of_words)))\n",
        "\n",
        "# join the words into a string\n",
        "df['clean_joined'] = df['clean'].apply(lambda x: \" \".join(x))\n",
        "df['clean_joined'][11111]"
      ]
    },
    {
      "cell_type": "code",
      "execution_count": 5,
      "metadata": {
        "colab": {
          "base_uri": "https://localhost:8080/"
        },
        "id": "WCSsz3p61DRm",
        "outputId": "6a5c3846-eac8-4678-97f9-7fe085aab926"
      },
      "outputs": [
        {
          "name": "stdout",
          "output_type": "stream",
          "text": [
            "The maximum number of words in any document is = 4405\n"
          ]
        }
      ],
      "source": [
        "# length of maximum document will be needed to create word embeddings\n",
        "maxlen = -1\n",
        "for doc in df.clean_joined:\n",
        "    tokens = nltk.word_tokenize(doc)\n",
        "    if maxlen < len(tokens):\n",
        "      maxlen = len(tokens)\n",
        "print(\"The maximum number of words in any document is =\", maxlen)"
      ]
    },
    {
      "cell_type": "code",
      "execution_count": 6,
      "metadata": {
        "id": "qh9oId0Zx4zO"
      },
      "outputs": [],
      "source": [
        "# split data into test and train\n",
        "x_train, x_test, y_train, y_test = train_test_split(\n",
        "    df.clean_joined, df.isfake, test_size=0.3)"
      ]
    },
    {
      "cell_type": "code",
      "execution_count": 7,
      "metadata": {
        "colab": {
          "base_uri": "https://localhost:8080/"
        },
        "id": "F42GYaAi83PI",
        "outputId": "e2a0aba7-0af1-4c1d-fc93-f830fb700657"
      },
      "outputs": [
        {
          "name": "stdout",
          "output_type": "stream",
          "text": [
            "60301\n"
          ]
        }
      ],
      "source": [
        "print(total_words)"
      ]
    },
    {
      "cell_type": "code",
      "execution_count": 13,
      "metadata": {
        "id": "mx16bct5yADj"
      },
      "outputs": [],
      "source": [
        "# Create a tokenizer to tokenize the words and create sequences of tokenized words\n",
        "tokenizer = Tokenizer(num_words=total_words)\n",
        "tokenizer.fit_on_texts(x_train)\n",
        "import pickle\n",
        "\n",
        "# saving\n",
        "with open('tokenizer.pickle', 'wb') as handle:\n",
        "    pickle.dump(tokenizer, handle, protocol=pickle.HIGHEST_PROTOCOL)\n",
        "\n",
        "# loading\n",
        "with open('tokenizer.pickle', 'rb') as handle:\n",
        "    tokenizer = pickle.load(handle)"
      ]
    },
    {
      "cell_type": "code",
      "execution_count": null,
      "metadata": {
        "colab": {
          "base_uri": "https://localhost:8080/"
        },
        "id": "t8yCjnYQ5vOJ",
        "outputId": "e79e716c-cbeb-4b43-96a3-dc411e38c06c"
      },
      "outputs": [],
      "source": [
        "print(tokenizer.word_index)\n",
        "print(tokenizer.word_docs)\n",
        "print(tokenizer.word_counts)\n",
        "print(len(tokenizer.word_index))"
      ]
    },
    {
      "cell_type": "code",
      "execution_count": 9,
      "metadata": {
        "id": "Ue9jiVxFyJIh"
      },
      "outputs": [],
      "source": [
        "train_sequences = tokenizer.texts_to_sequences(x_train)\n",
        "test_sequences = tokenizer.texts_to_sequences(x_test)"
      ]
    },
    {
      "cell_type": "code",
      "execution_count": null,
      "metadata": {
        "colab": {
          "base_uri": "https://localhost:8080/"
        },
        "id": "svakeRpt2Zwn",
        "outputId": "9ba2c172-34ad-46aa-9784-076fb07ab31c"
      },
      "outputs": [
        {
          "name": "stdout",
          "output_type": "stream",
          "text": [
            "military accept transgender recruits monday pentagon washington reuters transgender people allowed time enlist military starting monday ordered federal courts pentagon said friday president donald trump administration decided appeal rulings blocked transgender federal appeals courts washington virginia week rejected administration request hold orders lower court judges requiring military begin accepting transgender recruits justice department official said administration challenge rulings department defense announced releasing independent study issues coming weeks litigate interim appeal occurs administration decided wait study continue defend president lawful authority district court meantime official said speaking condition anonymity september pentagon said created panel senior officials study implement directive trump prohibit transgender individuals serving defense department submit plan trump lawyers representing currently serving transgender service members aspiring recruits said expected administration appeal rulings conservative majority supreme court hoping happen pentagon spokeswoman heather babb said statement mandated court order department defense prepared begin accessing transgender applicants military service applicants meet accession standards jennifer levi lawyer lesbian transgender advocacy group glad called decision appeal great news hoping means government come justify good military country levi said glad american civil liberties union represent plaintiffs lawsuits filed administration appealed hard line conservative supporters trump announced july prohibit transgender people serving military reversing democratic president barack obama policy accepting trump said twitter time military burdened tremendous medical costs disruption transgender military entail federal judges baltimore washington seattle riverside california issued rulings blocking trump legal challenges republican president policy proceed judges said likely violate right constitution equal protection pentagon issued guidelines recruitment personnel order enlist transgender applicants memo outlined medical requirements specified applicants identified undergarments wear trump administration previously said legal papers armed forces prepared train thousands personnel medical standards needed process transgender applicants accept individuals medically service obama administration deadline july begin accepting transgender recruits trump defense secretary james mattis postponed date president indefinitely trump taken steps aimed rolling transgender rights october administration said federal banning gender based workplace discrimination protect transgender employees reversing obama position february trump rescinded guidance issued obama administration saying public schools allow transgender students restroom corresponds gender identity \n",
            "\t [95, 1380, 3161, 1, 32, 2362, 3219, 9, 3, 15, 1, 32, 2362, 3219, 1636, 95, 27, 1380, 3795, 1000, 415, 34, 37, 70, 791, 124, 43, 95, 295, 20, 9, 69, 1, 23, 59, 4229, 2476, 247, 16, 10, 1150, 95, 978, 293, 2328, 2768, 1563, 640, 4650, 566, 6816, 439, 1, 15993, 2362, 32, 22, 1000, 111, 1901, 1463, 2613, 140, 76, 750, 367, 1958, 124, 43, 95, 295, 15155, 1000, 308, 2371, 15155, 456, 8993, 23893, 20, 9, 177, 319, 299, 3219, 15155, 1975, 10761, 1000, 2275, 95, 1380, 1050, 207, 23893, 2, 95, 978, 101, 33, 2831, 32, 978, 729, 356, 5199, 699, 37, 57, 132, 509, 2, 105, 3796, 95, 27, 1764, 3554, 342, 21362, 1476, 8632, 710, 1239, 720, 8166, 16, 10, 44, 726, 1847, 95, 1380, 978, 2275, 3340, 499, 1000, 38, 2590, 95, 150, 282, 5416, 2362, 245, 2172, 658, 18, 47, 15155, 978, 119, 1380, 1828, 6816, 47, 250, 1218, 1834, 61, 374, 126, 95, 356, 3220, 1414, 205, 11, 1354, 1563, 5865, 2613, 247, 1001, 3040, 95, 817, 94, 710, 2328, 323, 1563, 1239, 95, 27, 156, 95, 27, 4329, 8477, 439, 2, 902, 95, 150, 34201, 8020, 3902, 2137, 1835, 516, 1380, 20, 102, 1541, 41, 660, 102, 1541, 41, 2]\n",
            "337 \t 212\n"
          ]
        }
      ],
      "source": [
        "print(x_train[1], \"\\n\\t\", train_sequences[1])\n",
        "print(len(x_train[1].split()), '\\t' , len(train_sequences[1]))"
      ]
    },
    {
      "cell_type": "code",
      "execution_count": 10,
      "metadata": {
        "colab": {
          "base_uri": "https://localhost:8080/"
        },
        "id": "mTA6xW816oxe",
        "outputId": "51db4079-f795-4080-acd3-43da7a772d4e"
      },
      "outputs": [
        {
          "name": "stdout",
          "output_type": "stream",
          "text": [
            "4186\n",
            "4403\n"
          ]
        }
      ],
      "source": [
        "max = -1\n",
        "for i in train_sequences:\n",
        "  if len(i) >= max:\n",
        "    max = len(i)\n",
        "print(max)\n",
        "max = -1\n",
        "for i in test_sequences:\n",
        "  if len(i) >= max:\n",
        "    max = len(i)\n",
        "print(max)"
      ]
    },
    {
      "cell_type": "code",
      "execution_count": 11,
      "metadata": {
        "colab": {
          "base_uri": "https://localhost:8080/"
        },
        "id": "fGMn44lu1HWr",
        "outputId": "c5421d71-dfde-45e4-e2b0-ed3a8a44b4a5"
      },
      "outputs": [
        {
          "name": "stdout",
          "output_type": "stream",
          "text": [
            "The padded encoding for document 0  is :  [ 2744   990   243  5857 27497   208   379   136  2873  4144   325   136\n",
            "  1620   208  1666   935  6702 12190  1700  1700  2905  1071    50  1072\n",
            "   709   803 34080 19462 11097    53   978  7044    63    99  2538   333\n",
            "  5857 23811   712   990  1608   243  2744   840  5858    20    53   476\n",
            "   588   551  2007   202   512   840   290  2262  8674   712   935   779\n",
            "   338   512   722   840  2007  1004  3164   886   712   829  1097   127\n",
            "     2   136  1520 14417  1620   712    50  1072  5405   146  4762 14417\n",
            "  1985  2347    20    28  1304  2048  6702 12190  1700  1700  2905  1071\n",
            "    50  1072   709 14417  5406     1    21  3023  1796   208   252   713\n",
            "  1620     7    21 27498   982   448  1666    20   476   588  1912   156\n",
            "   136     2  1851  1872   208   252   935   779    53   526   338  6703\n",
            "   935  1624   526 14417  2292   275   992   748   868   424   208   252\n",
            "  1207  8317   331  1075    46   602   994   476   588  1087    31   696\n",
            "    39    62   208   252   935   120   479  7259   741  1184    44    94\n",
            "  1514  1386   614 19463    20  1602   223   638 19464   391     1    21\n",
            "   205   309   124  1341    99    30  5918     0     0     0     0     0\n",
            "     0     0     0     0     0     0     0     0     0     0     0     0\n",
            "     0     0     0     0     0     0     0     0     0     0     0     0\n",
            "     0     0     0     0     0     0     0     0     0     0     0     0\n",
            "     0     0     0     0     0     0     0     0     0     0     0     0\n",
            "     0     0     0     0     0     0     0     0     0     0     0     0\n",
            "     0     0     0     0]\n",
            "The padded encoding for document 1  is :  [  742  2688 16936  4022 15994 18032  6809  7045     9  1180  3808  2232\n",
            "   126    48  2197  1464  2919    83    71    55  8675   742   481 16936\n",
            "  5658   939  3062   914    92  4554  2539  2464  7045   622   262  4385\n",
            "  2529   102   342  2919  9896   145   205  3809   292   518   183   644\n",
            "  2021     3  8508  6809     2   914  1001   280  1542   482   688   131\n",
            " 34081  6809   346 13194  4022 15994  6124  4554  3004    92  2539    65\n",
            "   434   742  3809  5525  2465   623  2965   110  2919  5859 27499     2\n",
            "    77 14418  1797 21281   234 34082  3368   492  1428  1045    71    55\n",
            "   215   282  2203    11  7148  6197  1121  1212  4555     2   215 27500\n",
            "  4952 27501    92  6704    11   228  1830  3127  1272   518 34083  2327\n",
            "  8318   260  2434  2253    71  1219  6810   685   400   742     2   914\n",
            "  3463   199    76   688  4200    92   199    76    98   723   227 13721\n",
            "   911   449  2919  2620  2400 34084  4642  1023   299  3810   922  2503\n",
            " 15995  3884   254     2    65    11 27502  1391  1135  1180   663   570\n",
            "   463  1088   886   299   170   335   456   191   742  1430   622   262\n",
            "  8509  4023  3691   196    68  2378   214   200    89     2   914  1765\n",
            "  1786   251   561  5192    32  3024  4763  1786   582 34085 27503     2\n",
            "    29   914   919   610   371  1579   199    76    86     0     0     0\n",
            "     0     0     0     0     0     0     0     0     0     0     0     0\n",
            "     0     0     0     0     0     0     0     0     0     0     0     0\n",
            "     0     0     0     0     0     0     0     0     0     0     0     0\n",
            "     0     0     0     0]\n",
            "The padded encoding for document 2  is :  [3960   47  329  274  566  943 2298 2504  512  204    0    0    0    0\n",
            "    0    0    0    0    0    0    0    0    0    0    0    0    0    0\n",
            "    0    0    0    0    0    0    0    0    0    0    0    0    0    0\n",
            "    0    0    0    0    0    0    0    0    0    0    0    0    0    0\n",
            "    0    0    0    0    0    0    0    0    0    0    0    0    0    0\n",
            "    0    0    0    0    0    0    0    0    0    0    0    0    0    0\n",
            "    0    0    0    0    0    0    0    0    0    0    0    0    0    0\n",
            "    0    0    0    0    0    0    0    0    0    0    0    0    0    0\n",
            "    0    0    0    0    0    0    0    0    0    0    0    0    0    0\n",
            "    0    0    0    0    0    0    0    0    0    0    0    0    0    0\n",
            "    0    0    0    0    0    0    0    0    0    0    0    0    0    0\n",
            "    0    0    0    0    0    0    0    0    0    0    0    0    0    0\n",
            "    0    0    0    0    0    0    0    0    0    0    0    0    0    0\n",
            "    0    0    0    0    0    0    0    0    0    0    0    0    0    0\n",
            "    0    0    0    0    0    0    0    0    0    0    0    0    0    0\n",
            "    0    0    0    0    0    0    0    0    0    0    0    0    0    0\n",
            "    0    0    0    0    0    0    0    0    0    0    0    0    0    0\n",
            "    0    0    0    0    0    0    0    0    0    0    0    0    0    0\n",
            "    0    0    0    0]\n",
            "The padded encoding for document 3  is :  [   22  2702   254  8017  2920    57 27504  7046  5858  1383  6811   511\n",
            "   901  4111  6538  5362   760    22     6    22  6436  6437 11432    12\n",
            "     4    67   144   760  3204 12662  7046  5858  4459  9248  3736   153\n",
            "   216   559  7260  7362   841   520     6  1396  1603 15150   461   901\n",
            "    22   295   841  2793  3295  5248 15996  1891   254  5788  4427 10779\n",
            "  1941  8017  2920  2254   106  5860  2307  2266     8     4  4386 27505\n",
            "    22  3085   951  2644    57 27504  7046  3295    22  1798  2266  7046\n",
            "  3295  1722  6049  1986  4953 27506   481   390   604  5407   809   704\n",
            " 23812  2388    53     8  1658  7047 11433    22  6125  2266   106  5860\n",
            "    43    22   451  2989  4201  8510   498   913     8  5723   380  4589\n",
            "  7261    29    12     4   476  1293     0     0     0     0     0     0\n",
            "     0     0     0     0     0     0     0     0     0     0     0     0\n",
            "     0     0     0     0     0     0     0     0     0     0     0     0\n",
            "     0     0     0     0     0     0     0     0     0     0     0     0\n",
            "     0     0     0     0     0     0     0     0     0     0     0     0\n",
            "     0     0     0     0     0     0     0     0     0     0     0     0\n",
            "     0     0     0     0     0     0     0     0     0     0     0     0\n",
            "     0     0     0     0     0     0     0     0     0     0     0     0\n",
            "     0     0     0     0     0     0     0     0     0     0     0     0\n",
            "     0     0     0     0     0     0     0     0     0     0     0     0\n",
            "     0     0     0     0     0     0     0     0     0     0     0     0\n",
            "     0     0     0     0]\n",
            "(12677, 256)\n"
          ]
        }
      ],
      "source": [
        "# Add padding can either be maxlen = 4406 or smaller number maxlen = 40 seems to work well based on results\n",
        "padded_train = pad_sequences(train_sequences,maxlen=256, padding='post', truncating='post')\n",
        "padded_test = pad_sequences(test_sequences,maxlen=256, padding='post', truncating='post')\n",
        "\n",
        "for i, doc in enumerate(padded_train[:4]):\n",
        "    print(\"The padded encoding for document\", i, \" is : \", doc)\n",
        "\n",
        "print(padded_train.shape)"
      ]
    },
    {
      "cell_type": "markdown",
      "metadata": {
        "id": "nYr9ZrUssuVI"
      },
      "source": [
        "# **without pad_sequences**"
      ]
    },
    {
      "cell_type": "code",
      "execution_count": null,
      "metadata": {
        "colab": {
          "background_save": true,
          "base_uri": "https://localhost:8080/"
        },
        "id": "wPGeIuoDstsL",
        "outputId": "44445967-be84-4120-e957-096955d7baf8"
      },
      "outputs": [
        {
          "name": "stdout",
          "output_type": "stream",
          "text": [
            "Model: \"sequential\"\n",
            "_________________________________________________________________\n",
            " Layer (type)                Output Shape              Param #   \n",
            "=================================================================\n",
            " embedding (Embedding)       (None, None, 128)         7718656   \n",
            "                                                                 \n",
            " lstm (LSTM)                 (None, 64)                49408     \n",
            "                                                                 \n",
            " dense (Dense)               (None, 32)                2080      \n",
            "                                                                 \n",
            " dense_1 (Dense)             (None, 1)                 33        \n",
            "                                                                 \n",
            "=================================================================\n",
            "Total params: 7,770,177\n",
            "Trainable params: 7,770,177\n",
            "Non-trainable params: 0\n",
            "_________________________________________________________________\n"
          ]
        },
        {
          "name": "stderr",
          "output_type": "stream",
          "text": [
            "\n",
            "KeyboardInterrupt\n",
            "\n"
          ]
        }
      ],
      "source": [
        "# Sequential Model\n",
        "model = Sequential()\n",
        "# embeddidng layer\n",
        "model.add(Embedding(total_words, output_dim = 128))\n",
        "# LSTM\n",
        "model.add(LSTM(64))\n",
        "# Dense layers\n",
        "model.add(Dense(32, activation='relu'))\n",
        "model.add(Dense(1, activation='sigmoid'))\n",
        "model.compile(optimizer='adam', loss='binary_crossentropy', metrics=['acc'])\n",
        "model.summary()\n",
        "\n",
        "y_train = np.asarray(y_train)\n",
        "# train the model\n",
        "trained = model.fit(train_sequences, y_train, batch_size=32, validation_split=0.2, epochs=4)\n",
        "# make prediction\n",
        "pred = model.predict(test_sequences)\n",
        "# if the predicted value is > 0.95 it is real else it is fake\n",
        "prediction = []\n",
        "for i in range(len(pred)):\n",
        "    if pred[i].item() > 0.95:\n",
        "        prediction.append(1)\n",
        "    else:\n",
        "        prediction.append(0)\n",
        "# getting the accuracy\n",
        "accuracy = accuracy_score(list(y_test), prediction)\n",
        "print(\"Model Accuracy : \", accuracy)"
      ]
    },
    {
      "cell_type": "markdown",
      "metadata": {
        "id": "t1S0EP8h2yU0"
      },
      "source": [
        "# **batsize=32, epochs=[4, 5]**"
      ]
    },
    {
      "cell_type": "code",
      "execution_count": null,
      "metadata": {
        "colab": {
          "base_uri": "https://localhost:8080/"
        },
        "id": "7Al8P8og3R5h",
        "outputId": "b586b66d-eb42-497d-dc26-3c1d1621698f"
      },
      "outputs": [
        {
          "name": "stdout",
          "output_type": "stream",
          "text": [
            "Looking in indexes: https://pypi.org/simple, https://us-python.pkg.dev/colab-wheels/public/simple/\n",
            "Collecting scikeras\n",
            "  Downloading scikeras-0.9.0-py3-none-any.whl (27 kB)\n",
            "Requirement already satisfied: importlib-metadata>=3 in /usr/local/lib/python3.7/dist-packages (from scikeras) (4.13.0)\n",
            "Requirement already satisfied: packaging>=0.21 in /usr/local/lib/python3.7/dist-packages (from scikeras) (21.3)\n",
            "Requirement already satisfied: scikit-learn>=1.0.0 in /usr/local/lib/python3.7/dist-packages (from scikeras) (1.0.2)\n",
            "Requirement already satisfied: zipp>=0.5 in /usr/local/lib/python3.7/dist-packages (from importlib-metadata>=3->scikeras) (3.10.0)\n",
            "Requirement already satisfied: typing-extensions>=3.6.4 in /usr/local/lib/python3.7/dist-packages (from importlib-metadata>=3->scikeras) (4.1.1)\n",
            "Requirement already satisfied: pyparsing!=3.0.5,>=2.0.2 in /usr/local/lib/python3.7/dist-packages (from packaging>=0.21->scikeras) (3.0.9)\n",
            "Requirement already satisfied: scipy>=1.1.0 in /usr/local/lib/python3.7/dist-packages (from scikit-learn>=1.0.0->scikeras) (1.7.3)\n",
            "Requirement already satisfied: threadpoolctl>=2.0.0 in /usr/local/lib/python3.7/dist-packages (from scikit-learn>=1.0.0->scikeras) (3.1.0)\n",
            "Requirement already satisfied: numpy>=1.14.6 in /usr/local/lib/python3.7/dist-packages (from scikit-learn>=1.0.0->scikeras) (1.21.6)\n",
            "Requirement already satisfied: joblib>=0.11 in /usr/local/lib/python3.7/dist-packages (from scikit-learn>=1.0.0->scikeras) (1.2.0)\n",
            "Installing collected packages: scikeras\n",
            "Successfully installed scikeras-0.9.0\n",
            "Model: \"sequential\"\n",
            "_________________________________________________________________\n",
            " Layer (type)                Output Shape              Param #   \n",
            "=================================================================\n",
            " embedding (Embedding)       (None, None, 128)         7718656   \n",
            "                                                                 \n",
            " lstm (LSTM)                 (None, 64)                49408     \n",
            "                                                                 \n",
            " dense (Dense)               (None, 32)                2080      \n",
            "                                                                 \n",
            " dense_1 (Dense)             (None, 1)                 33        \n",
            "                                                                 \n",
            "=================================================================\n",
            "Total params: 7,770,177\n",
            "Trainable params: 7,770,177\n",
            "Non-trainable params: 0\n",
            "_________________________________________________________________\n",
            "Best: 0.996687 using {'batch_size': 32, 'epochs': 4}\n",
            "0.996687 (0.000169) with: {'batch_size': 32, 'epochs': 4}\n",
            "0.995928 (0.000593) with: {'batch_size': 32, 'epochs': 5}\n"
          ]
        }
      ],
      "source": [
        "!pip install scikeras\n",
        "from sklearn.model_selection import GridSearchCV \n",
        "from scikeras.wrappers import KerasClassifier\n",
        "\n",
        "def create_model():\n",
        "  model = Sequential()\n",
        "  model.add(Embedding(total_words, output_dim = 128))\n",
        "  model.add(LSTM(64))\n",
        "  model.add(Dense(32, activation='relu'))\n",
        "  model.add(Dense(1, activation='sigmoid'))\n",
        "  model.compile(optimizer='adam', loss='binary_crossentropy', metrics=['acc'])\n",
        "  model.summary()\n",
        "  return model\n",
        "\n",
        "# create model\n",
        "model = KerasClassifier(model=create_model, verbose=0)\n",
        "# define the grid search parameters\n",
        "batch_size = [32]\n",
        "epochs = [4, 5]\n",
        "param_grid = dict(batch_size=batch_size, epochs=epochs)\n",
        "grid = GridSearchCV(estimator=model, param_grid=param_grid, n_jobs=-1, cv=3)\n",
        "y_train = np.asarray(y_train)\n",
        "grid_result = grid.fit(padded_train, y_train)\n",
        "\n",
        "# summarize results\n",
        "print(\"Best: %f using %s\" % (grid_result.best_score_, grid_result.best_params_))\n",
        "means = grid_result.cv_results_['mean_test_score']\n",
        "stds = grid_result.cv_results_['std_test_score']\n",
        "params = grid_result.cv_results_['params']\n",
        "for mean, stdev, param in zip(means, stds, params):\n",
        "    print(\"%f (%f) with: %r\" % (mean, stdev, param))"
      ]
    },
    {
      "cell_type": "markdown",
      "metadata": {
        "id": "fnQwEkfm5V6M"
      },
      "source": [
        "# **padded by length = 40**"
      ]
    },
    {
      "cell_type": "code",
      "execution_count": null,
      "metadata": {
        "colab": {
          "base_uri": "https://localhost:8080/"
        },
        "id": "STDXanlhNbBT",
        "outputId": "6c5a70da-c089-41d5-d3b7-25a69c3a4507"
      },
      "outputs": [
        {
          "name": "stdout",
          "output_type": "stream",
          "text": [
            "Looking in indexes: https://pypi.org/simple, https://us-python.pkg.dev/colab-wheels/public/simple/\n",
            "Requirement already satisfied: scikeras in /usr/local/lib/python3.7/dist-packages (0.9.0)\n",
            "Requirement already satisfied: scikit-learn>=1.0.0 in /usr/local/lib/python3.7/dist-packages (from scikeras) (1.0.2)\n",
            "Requirement already satisfied: packaging>=0.21 in /usr/local/lib/python3.7/dist-packages (from scikeras) (21.3)\n",
            "Requirement already satisfied: importlib-metadata>=3 in /usr/local/lib/python3.7/dist-packages (from scikeras) (4.13.0)\n",
            "Requirement already satisfied: typing-extensions>=3.6.4 in /usr/local/lib/python3.7/dist-packages (from importlib-metadata>=3->scikeras) (4.1.1)\n",
            "Requirement already satisfied: zipp>=0.5 in /usr/local/lib/python3.7/dist-packages (from importlib-metadata>=3->scikeras) (3.10.0)\n",
            "Requirement already satisfied: pyparsing!=3.0.5,>=2.0.2 in /usr/local/lib/python3.7/dist-packages (from packaging>=0.21->scikeras) (3.0.9)\n",
            "Requirement already satisfied: numpy>=1.14.6 in /usr/local/lib/python3.7/dist-packages (from scikit-learn>=1.0.0->scikeras) (1.21.6)\n",
            "Requirement already satisfied: threadpoolctl>=2.0.0 in /usr/local/lib/python3.7/dist-packages (from scikit-learn>=1.0.0->scikeras) (3.1.0)\n",
            "Requirement already satisfied: scipy>=1.1.0 in /usr/local/lib/python3.7/dist-packages (from scikit-learn>=1.0.0->scikeras) (1.7.3)\n",
            "Requirement already satisfied: joblib>=0.11 in /usr/local/lib/python3.7/dist-packages (from scikit-learn>=1.0.0->scikeras) (1.2.0)\n"
          ]
        },
        {
          "name": "stderr",
          "output_type": "stream",
          "text": [
            "/usr/local/lib/python3.7/dist-packages/joblib/externals/loky/process_executor.py:703: UserWarning: A worker stopped while some jobs were given to the executor. This can be caused by a too short worker timeout or by a memory leak.\n",
            "  \"timeout or by a memory leak.\", UserWarning\n"
          ]
        },
        {
          "name": "stdout",
          "output_type": "stream",
          "text": [
            "Model: \"sequential_4\"\n",
            "_________________________________________________________________\n",
            " Layer (type)                Output Shape              Param #   \n",
            "=================================================================\n",
            " embedding_4 (Embedding)     (None, None, 128)         7718656   \n",
            "                                                                 \n",
            " lstm_4 (LSTM)               (None, 64)                49408     \n",
            "                                                                 \n",
            " dense_8 (Dense)             (None, 32)                2080      \n",
            "                                                                 \n",
            " dense_9 (Dense)             (None, 1)                 33        \n",
            "                                                                 \n",
            "=================================================================\n",
            "Total params: 7,770,177\n",
            "Trainable params: 7,770,177\n",
            "Non-trainable params: 0\n",
            "_________________________________________________________________\n",
            "Best: 0.997446 using {'batch_size': 32, 'epochs': 4}\n",
            "0.995582 (0.001562) with: {'batch_size': 32, 'epochs': 2}\n",
            "0.996411 (0.000961) with: {'batch_size': 32, 'epochs': 3}\n",
            "0.997446 (0.001074) with: {'batch_size': 32, 'epochs': 4}\n",
            "0.996204 (0.001126) with: {'batch_size': 32, 'epochs': 5}\n",
            "0.996273 (0.001321) with: {'batch_size': 32, 'epochs': 6}\n",
            "0.995928 (0.000704) with: {'batch_size': 64, 'epochs': 2}\n",
            "0.992684 (0.003100) with: {'batch_size': 64, 'epochs': 3}\n",
            "0.995652 (0.001109) with: {'batch_size': 64, 'epochs': 4}\n",
            "0.996135 (0.001269) with: {'batch_size': 64, 'epochs': 5}\n",
            "0.996480 (0.000610) with: {'batch_size': 64, 'epochs': 6}\n",
            "0.993995 (0.001108) with: {'batch_size': 128, 'epochs': 2}\n",
            "0.995099 (0.000488) with: {'batch_size': 128, 'epochs': 3}\n",
            "0.993512 (0.001863) with: {'batch_size': 128, 'epochs': 4}\n",
            "0.994409 (0.000447) with: {'batch_size': 128, 'epochs': 5}\n",
            "0.992683 (0.001535) with: {'batch_size': 128, 'epochs': 6}\n",
            "0.989577 (0.001270) with: {'batch_size': 256, 'epochs': 2}\n",
            "0.992408 (0.001854) with: {'batch_size': 256, 'epochs': 3}\n",
            "0.991924 (0.002112) with: {'batch_size': 256, 'epochs': 4}\n",
            "0.992546 (0.002218) with: {'batch_size': 256, 'epochs': 5}\n",
            "0.991303 (0.001029) with: {'batch_size': 256, 'epochs': 6}\n"
          ]
        }
      ],
      "source": [
        "!pip install scikeras\n",
        "from sklearn.model_selection import GridSearchCV \n",
        "from scikeras.wrappers import KerasClassifier\n",
        "\n",
        "def create_model():\n",
        "  model = Sequential()\n",
        "  model.add(Embedding(total_words, output_dim = 128))\n",
        "  model.add(LSTM(64))\n",
        "  model.add(Dense(32, activation='relu'))\n",
        "  model.add(Dense(1, activation='sigmoid'))\n",
        "  model.compile(optimizer='adam', loss='binary_crossentropy', metrics=['acc'])\n",
        "  model.summary()\n",
        "  return model\n",
        "\n",
        "# create model\n",
        "model = KerasClassifier(model=create_model, verbose=0)\n",
        "# define the grid search parameters\n",
        "batch_size = [32, 64, 128, 256]\n",
        "epochs = [2, 3, 4, 5, 6]\n",
        "param_grid = dict(batch_size=batch_size, epochs=epochs)\n",
        "grid = GridSearchCV(estimator=model, param_grid=param_grid, n_jobs=-1, cv=3)\n",
        "y_train = np.asarray(y_train)\n",
        "grid_result = grid.fit(padded_train, y_train)\n",
        "\n",
        "# summarize results\n",
        "print(\"Best: %f using %s\" % (grid_result.best_score_, grid_result.best_params_))\n",
        "means = grid_result.cv_results_['mean_test_score']\n",
        "stds = grid_result.cv_results_['std_test_score']\n",
        "params = grid_result.cv_results_['params']\n",
        "for mean, stdev, param in zip(means, stds, params):\n",
        "    print(\"%f (%f) with: %r\" % (mean, stdev, param))"
      ]
    },
    {
      "cell_type": "code",
      "execution_count": null,
      "metadata": {
        "colab": {
          "base_uri": "https://localhost:8080/"
        },
        "id": "nLTIeImnZtY2",
        "outputId": "a14d9976-f938-438c-f14b-6d9afd9f0184"
      },
      "outputs": [
        {
          "name": "stdout",
          "output_type": "stream",
          "text": [
            "Looking in indexes: https://pypi.org/simple, https://us-python.pkg.dev/colab-wheels/public/simple/\n",
            "Requirement already satisfied: scikeras in /usr/local/lib/python3.7/dist-packages (0.9.0)\n",
            "Requirement already satisfied: scikit-learn>=1.0.0 in /usr/local/lib/python3.7/dist-packages (from scikeras) (1.0.2)\n",
            "Requirement already satisfied: packaging>=0.21 in /usr/local/lib/python3.7/dist-packages (from scikeras) (21.3)\n",
            "Requirement already satisfied: importlib-metadata>=3 in /usr/local/lib/python3.7/dist-packages (from scikeras) (4.13.0)\n",
            "Requirement already satisfied: zipp>=0.5 in /usr/local/lib/python3.7/dist-packages (from importlib-metadata>=3->scikeras) (3.10.0)\n",
            "Requirement already satisfied: typing-extensions>=3.6.4 in /usr/local/lib/python3.7/dist-packages (from importlib-metadata>=3->scikeras) (4.1.1)\n",
            "Requirement already satisfied: pyparsing!=3.0.5,>=2.0.2 in /usr/local/lib/python3.7/dist-packages (from packaging>=0.21->scikeras) (3.0.9)\n",
            "Requirement already satisfied: joblib>=0.11 in /usr/local/lib/python3.7/dist-packages (from scikit-learn>=1.0.0->scikeras) (1.2.0)\n",
            "Requirement already satisfied: threadpoolctl>=2.0.0 in /usr/local/lib/python3.7/dist-packages (from scikit-learn>=1.0.0->scikeras) (3.1.0)\n",
            "Requirement already satisfied: numpy>=1.14.6 in /usr/local/lib/python3.7/dist-packages (from scikit-learn>=1.0.0->scikeras) (1.21.6)\n",
            "Requirement already satisfied: scipy>=1.1.0 in /usr/local/lib/python3.7/dist-packages (from scikit-learn>=1.0.0->scikeras) (1.7.3)\n"
          ]
        },
        {
          "name": "stderr",
          "output_type": "stream",
          "text": [
            "/usr/local/lib/python3.7/dist-packages/joblib/externals/loky/process_executor.py:703: UserWarning: A worker stopped while some jobs were given to the executor. This can be caused by a too short worker timeout or by a memory leak.\n",
            "  \"timeout or by a memory leak.\", UserWarning\n"
          ]
        },
        {
          "name": "stdout",
          "output_type": "stream",
          "text": [
            "Best: 0.997446 using {'optimizer': 'Adam'}\n",
            "0.681323 (0.001252) with: {'optimizer': 'SGD'}\n",
            "0.995376 (0.001187) with: {'optimizer': 'RMSprop'}\n",
            "0.643637 (0.027803) with: {'optimizer': 'Adagrad'}\n",
            "0.590145 (0.018545) with: {'optimizer': 'Adadelta'}\n",
            "0.997446 (0.001019) with: {'optimizer': 'Adam'}\n",
            "0.995651 (0.001782) with: {'optimizer': 'Adamax'}\n",
            "0.996963 (0.000544) with: {'optimizer': 'Nadam'}\n"
          ]
        }
      ],
      "source": [
        "!pip install scikeras\n",
        "from sklearn.model_selection import GridSearchCV \n",
        "from scikeras.wrappers import KerasClassifier\n",
        "\n",
        "def create_model():\n",
        "  model = Sequential()\n",
        "  model.add(Embedding(total_words, output_dim = 128))\n",
        "  model.add(LSTM(64))\n",
        "  model.add(Dense(32, activation='relu'))\n",
        "  model.add(Dense(1, activation='sigmoid'))\n",
        "  return model\n",
        "\n",
        "# create model\n",
        "model = KerasClassifier(model=create_model, loss=\"binary_crossentropy\", epochs=4, batch_size=32, verbose=0)\n",
        "# define the grid search parameters\n",
        "optimizer = ['SGD', 'RMSprop', 'Adagrad', 'Adadelta', 'Adam', 'Adamax', 'Nadam']\n",
        "param_grid = dict(optimizer=optimizer)\n",
        "grid = GridSearchCV(estimator=model, param_grid=param_grid, n_jobs=-1, cv=3)\n",
        "grid_result = grid.fit(padded_train, y_train)\n",
        "print(\"Best: %f using %s\" % (grid_result.best_score_, grid_result.best_params_))\n",
        "means = grid_result.cv_results_['mean_test_score']\n",
        "stds = grid_result.cv_results_['std_test_score']\n",
        "params = grid_result.cv_results_['params']\n",
        "for mean, stdev, param in zip(means, stds, params):\n",
        "    print(\"%f (%f) with: %r\" % (mean, stdev, param))"
      ]
    },
    {
      "cell_type": "markdown",
      "metadata": {
        "id": "aqDj6T7HotPm"
      },
      "source": [
        "# **Try to build model with batch_size=32, epochs=4, optimizer='adam'**"
      ]
    },
    {
      "cell_type": "code",
      "execution_count": null,
      "metadata": {
        "colab": {
          "base_uri": "https://localhost:8080/"
        },
        "id": "Jy1PWjn-1JDi",
        "outputId": "40b15f18-5955-43a1-da93-18f8fed76661"
      },
      "outputs": [
        {
          "name": "stdout",
          "output_type": "stream",
          "text": [
            "Model: \"sequential_6\"\n",
            "_________________________________________________________________\n",
            " Layer (type)                Output Shape              Param #   \n",
            "=================================================================\n",
            " embedding_6 (Embedding)     (None, None, 128)         7718656   \n",
            "                                                                 \n",
            " lstm_6 (LSTM)               (None, 64)                49408     \n",
            "                                                                 \n",
            " dense_12 (Dense)            (None, 32)                2080      \n",
            "                                                                 \n",
            " dense_13 (Dense)            (None, 1)                 33        \n",
            "                                                                 \n",
            "=================================================================\n",
            "Total params: 7,770,177\n",
            "Trainable params: 7,770,177\n",
            "Non-trainable params: 0\n",
            "_________________________________________________________________\n",
            "Epoch 1/4\n",
            "363/363 [==============================] - 45s 117ms/step - loss: 0.0868 - acc: 0.9652 - val_loss: 0.0223 - val_acc: 0.9955\n",
            "Epoch 2/4\n",
            "363/363 [==============================] - 43s 119ms/step - loss: 0.0041 - acc: 0.9992 - val_loss: 0.0178 - val_acc: 0.9959\n",
            "Epoch 3/4\n",
            "363/363 [==============================] - 41s 114ms/step - loss: 0.0027 - acc: 0.9997 - val_loss: 0.0191 - val_acc: 0.9962\n",
            "Epoch 4/4\n",
            "363/363 [==============================] - 42s 115ms/step - loss: 0.0140 - acc: 0.9983 - val_loss: 0.0125 - val_acc: 0.9979\n",
            "114/114 [==============================] - 2s 10ms/step\n",
            "Model Accuracy :  0.9953077560033122\n"
          ]
        }
      ],
      "source": [
        "# Sequential Model\n",
        "model = Sequential()\n",
        "# embeddidng layer\n",
        "model.add(Embedding(total_words, output_dim = 128))\n",
        "# LSTM\n",
        "model.add(LSTM(64))\n",
        "# Dense layers\n",
        "model.add(Dense(32, activation='relu'))\n",
        "model.add(Dense(1, activation='sigmoid'))\n",
        "model.compile(optimizer='adam', loss='binary_crossentropy', metrics=['acc'])\n",
        "model.summary()\n",
        "\n",
        "y_train = np.asarray(y_train)\n",
        "# train the model\n",
        "trained = model.fit(padded_train, y_train, batch_size=32, validation_split=0.2, epochs=4)\n",
        "# make prediction\n",
        "pred = model.predict(padded_test)\n",
        "# if the predicted value is > 0.95 it is real else it is fake\n",
        "prediction = []\n",
        "for i in range(len(pred)):\n",
        "    if pred[i].item() > 0.95:\n",
        "        prediction.append(1)\n",
        "    else:\n",
        "        prediction.append(0)\n",
        "# getting the accuracy\n",
        "accuracy = accuracy_score(list(y_test), prediction)\n",
        "print(\"Model Accuracy : \", accuracy)"
      ]
    },
    {
      "cell_type": "code",
      "execution_count": null,
      "metadata": {
        "colab": {
          "base_uri": "https://localhost:8080/",
          "height": 282
        },
        "id": "v3QuiVYc35Du",
        "outputId": "e9e0881f-e764-4cb9-e0a5-3031215f51b6"
      },
      "outputs": [
        {
          "data": {
            "text/plain": [
              "<matplotlib.legend.Legend at 0x7fc32f826d90>"
            ]
          },
          "execution_count": 23,
          "metadata": {},
          "output_type": "execute_result"
        },
        {
          "data": {
            "image/png": "[encoded data removed]",
            "text/plain": [
              "<Figure size 432x288 with 1 Axes>"
            ]
          },
          "metadata": {},
          "output_type": "display_data"
        }
      ],
      "source": [
        "import matplotlib.pyplot as plt\n",
        "plt.plot(trained.history['loss'], label='loss')\n",
        "plt.plot(trained.history['val_loss'], label='val_loss')\n",
        "plt.legend()"
      ]
    },
    {
      "cell_type": "code",
      "execution_count": null,
      "metadata": {
        "colab": {
          "base_uri": "https://localhost:8080/"
        },
        "id": "cNFRMPl4JWSu",
        "outputId": "4c7000b6-ba7f-44dd-ca73-cd8764e888f9"
      },
      "outputs": [
        {
          "name": "stdout",
          "output_type": "stream",
          "text": [
            "Model: \"sequential\"\n",
            "_________________________________________________________________\n",
            " Layer (type)                Output Shape              Param #   \n",
            "=================================================================\n",
            " embedding (Embedding)       (None, None, 128)         7718656   \n",
            "                                                                 \n",
            " lstm (LSTM)                 (None, 64)                49408     \n",
            "                                                                 \n",
            " dense (Dense)               (None, 32)                2080      \n",
            "                                                                 \n",
            " dense_1 (Dense)             (None, 1)                 33        \n",
            "                                                                 \n",
            "=================================================================\n",
            "Total params: 7,770,177\n",
            "Trainable params: 7,770,177\n",
            "Non-trainable params: 0\n",
            "_________________________________________________________________\n",
            "Epoch 1/4\n",
            "363/363 [==============================] - 100s 268ms/step - loss: 0.4546 - acc: 0.7896 - val_loss: 0.3438 - val_acc: 0.8820\n",
            "Epoch 2/4\n",
            "363/363 [==============================] - 96s 266ms/step - loss: 0.3461 - acc: 0.8732 - val_loss: 0.3562 - val_acc: 0.8765\n",
            "Epoch 3/4\n",
            "363/363 [==============================] - 104s 286ms/step - loss: 0.3421 - acc: 0.8784 - val_loss: 0.3842 - val_acc: 0.8544\n",
            "Epoch 4/4\n",
            "363/363 [==============================] - 97s 267ms/step - loss: 0.3758 - acc: 0.8387 - val_loss: 0.3813 - val_acc: 0.8844\n",
            "114/114 [==============================] - 5s 43ms/step\n",
            "Model Accuracy :  0.6657466188241788\n"
          ]
        }
      ],
      "source": [
        "\n",
        "# Sequential Model\n",
        "model = Sequential()\n",
        "# embeddidng layer\n",
        "model.add(Embedding(total_words, output_dim = 128))\n",
        "# LSTM\n",
        "model.add(LSTM(64))\n",
        "# Dense layers\n",
        "model.add(Dense(32, activation='relu'))\n",
        "model.add(Dense(1, activation='sigmoid'))\n",
        "model.compile(optimizer='adam', loss='binary_crossentropy', metrics=['acc'])\n",
        "model.summary()\n",
        "\n",
        "y_train = np.asarray(y_train)\n",
        "# train the model\n",
        "trained = model.fit(padded_train, y_train, batch_size=32, validation_split=0.2, epochs=4)\n",
        "# make prediction\n",
        "pred = model.predict(padded_test)\n",
        "# if the predicted value is > 0.95 it is real else it is fake\n",
        "prediction = []\n",
        "for i in range(len(pred)):\n",
        "    if pred[i].item() > 0.95:\n",
        "        prediction.append(1)\n",
        "    else:\n",
        "        prediction.append(0)\n",
        "# getting the accuracy\n",
        "accuracy = accuracy_score(list(y_test), prediction)\n",
        "print(\"Model Accuracy : \", accuracy)"
      ]
    },
    {
      "cell_type": "code",
      "execution_count": 12,
      "metadata": {
        "colab": {
          "base_uri": "https://localhost:8080/",
          "height": 768
        },
        "id": "UEVhRabqC1x8",
        "outputId": "fe891147-3601-4a11-e8f4-2ade85770a57"
      },
      "outputs": [
        {
          "name": "stdout",
          "output_type": "stream",
          "text": [
            "Model: \"sequential\"\n",
            "_________________________________________________________________\n",
            " Layer (type)                Output Shape              Param #   \n",
            "=================================================================\n",
            " embedding (Embedding)       (None, None, 128)         7718528   \n",
            "                                                                 \n",
            " bidirectional (Bidirectiona  (None, 256)              263168    \n",
            " l)                                                              \n",
            "                                                                 \n",
            " dense (Dense)               (None, 128)               32896     \n",
            "                                                                 \n",
            " dense_1 (Dense)             (None, 1)                 129       \n",
            "                                                                 \n",
            "=================================================================\n",
            "Total params: 8,014,721\n",
            "Trainable params: 8,014,721\n",
            "Non-trainable params: 0\n",
            "_________________________________________________________________\n",
            "Epoch 1/4\n",
            "317/317 [==============================] - 245s 723ms/step - loss: 0.0875 - acc: 0.9627 - val_loss: 0.0058 - val_acc: 0.9992\n",
            "Epoch 2/4\n",
            "317/317 [==============================] - 215s 679ms/step - loss: 0.0026 - acc: 0.9997 - val_loss: 0.0043 - val_acc: 0.9988\n",
            "Epoch 3/4\n",
            "317/317 [==============================] - 222s 700ms/step - loss: 9.8898e-04 - acc: 0.9999 - val_loss: 0.0120 - val_acc: 0.9968\n",
            "Epoch 4/4\n",
            "317/317 [==============================] - 235s 742ms/step - loss: 0.0014 - acc: 0.9998 - val_loss: 0.0063 - val_acc: 0.9980\n",
            "170/170 [==============================] - 28s 148ms/step\n",
            "Model Accuracy :  0.9948472580051527\n"
          ]
        },
        {
          "data": {
            "text/plain": [
              "<matplotlib.legend.Legend at 0x216205ec5e0>"
            ]
          },
          "execution_count": 12,
          "metadata": {},
          "output_type": "execute_result"
        },
        {
          "data": {
            "image/png": "[encoded data removed]",
            "text/plain": [
              "<Figure size 432x288 with 1 Axes>"
            ]
          },
          "metadata": {
            "needs_background": "light"
          },
          "output_type": "display_data"
        }
      ],
      "source": [
        "# Sequential Model\n",
        "model = Sequential()\n",
        "\n",
        "# embeddidng layer\n",
        "model.add(Embedding(total_words, output_dim = 128))\n",
        "\n",
        "# Bi-Directional RNN and LSTM\n",
        "model.add(Bidirectional(LSTM(128)))\n",
        "\n",
        "# Dense layers\n",
        "model.add(Dense(128, activation = 'relu'))\n",
        "model.add(Dense(1,activation= 'sigmoid'))\n",
        "model.compile(optimizer='adam', loss='binary_crossentropy', metrics=['acc'])\n",
        "model.summary()\n",
        "y_train = np.asarray(y_train)\n",
        "# train the model\n",
        "trained=model.fit(padded_train, y_train, batch_size = 32, validation_split = 0.2, epochs = 4)\n",
        "# make prediction\n",
        "\n",
        "model.save(\"model.h5\")\n",
        "\n",
        "pred = model.predict(padded_test)\n",
        "# if the predicted value is > 0.95 it is real else it is fake\n",
        "prediction = []\n",
        "for i in range(len(pred)):\n",
        "    if pred[i].item() > 0.95:\n",
        "        prediction.append(1)\n",
        "    else:\n",
        "        prediction.append(0)\n",
        "# getting the accuracy\n",
        "accuracy = accuracy_score(list(y_test), prediction)\n",
        "print(\"Model Accuracy : \", accuracy)\n",
        "import matplotlib.pyplot as plt\n",
        "plt.plot(trained.history['loss'], label='loss')\n",
        "plt.plot(trained.history['val_loss'], label='val_loss')\n",
        "plt.legend()"
      ]
    },
    {
      "cell_type": "markdown",
      "metadata": {
        "id": "e2jvtJp1wJgr"
      },
      "source": [
        "# **Bidirection-LSTM**"
      ]
    },
    {
      "cell_type": "code",
      "execution_count": null,
      "metadata": {
        "colab": {
          "base_uri": "https://localhost:8080/"
        },
        "id": "e2rg9AKawR1X",
        "outputId": "e07eb2e8-8d41-4ca0-8f45-8a71febeac5e"
      },
      "outputs": [
        {
          "name": "stdout",
          "output_type": "stream",
          "text": [
            "Looking in indexes: https://pypi.org/simple, https://us-python.pkg.dev/colab-wheels/public/simple/\n",
            "Requirement already satisfied: scikeras in /usr/local/lib/python3.7/dist-packages (0.9.0)\n",
            "Requirement already satisfied: packaging>=0.21 in /usr/local/lib/python3.7/dist-packages (from scikeras) (21.3)\n",
            "Requirement already satisfied: importlib-metadata>=3 in /usr/local/lib/python3.7/dist-packages (from scikeras) (4.13.0)\n",
            "Requirement already satisfied: scikit-learn>=1.0.0 in /usr/local/lib/python3.7/dist-packages (from scikeras) (1.0.2)\n",
            "Requirement already satisfied: zipp>=0.5 in /usr/local/lib/python3.7/dist-packages (from importlib-metadata>=3->scikeras) (3.10.0)\n",
            "Requirement already satisfied: typing-extensions>=3.6.4 in /usr/local/lib/python3.7/dist-packages (from importlib-metadata>=3->scikeras) (4.1.1)\n",
            "Requirement already satisfied: pyparsing!=3.0.5,>=2.0.2 in /usr/local/lib/python3.7/dist-packages (from packaging>=0.21->scikeras) (3.0.9)\n",
            "Requirement already satisfied: joblib>=0.11 in /usr/local/lib/python3.7/dist-packages (from scikit-learn>=1.0.0->scikeras) (1.2.0)\n",
            "Requirement already satisfied: threadpoolctl>=2.0.0 in /usr/local/lib/python3.7/dist-packages (from scikit-learn>=1.0.0->scikeras) (3.1.0)\n",
            "Requirement already satisfied: scipy>=1.1.0 in /usr/local/lib/python3.7/dist-packages (from scikit-learn>=1.0.0->scikeras) (1.7.3)\n",
            "Requirement already satisfied: numpy>=1.14.6 in /usr/local/lib/python3.7/dist-packages (from scikit-learn>=1.0.0->scikeras) (1.21.6)\n",
            "Model: \"sequential_1\"\n",
            "_________________________________________________________________\n",
            " Layer (type)                Output Shape              Param #   \n",
            "=================================================================\n",
            " embedding_1 (Embedding)     (None, None, 128)         7718656   \n",
            "                                                                 \n",
            " bidirectional_1 (Bidirectio  (None, 256)              263168    \n",
            " nal)                                                            \n",
            "                                                                 \n",
            " dense_2 (Dense)             (None, 128)               32896     \n",
            "                                                                 \n",
            " dense_3 (Dense)             (None, 1)                 129       \n",
            "                                                                 \n",
            "=================================================================\n",
            "Total params: 8,014,849\n",
            "Trainable params: 8,014,849\n",
            "Non-trainable params: 0\n",
            "_________________________________________________________________\n",
            "Best: 0.997170 using {'batch_size': 32, 'epochs': 2}\n",
            "0.997170 (0.000544) with: {'batch_size': 32, 'epochs': 2}\n",
            "0.990820 (0.005423) with: {'batch_size': 32, 'epochs': 3}\n",
            "0.996687 (0.000448) with: {'batch_size': 32, 'epochs': 4}\n",
            "0.997101 (0.000586) with: {'batch_size': 32, 'epochs': 5}\n",
            "0.996963 (0.000258) with: {'batch_size': 32, 'epochs': 6}\n",
            "0.997170 (0.001291) with: {'batch_size': 64, 'epochs': 2}\n",
            "0.995859 (0.000586) with: {'batch_size': 64, 'epochs': 3}\n",
            "0.996687 (0.000447) with: {'batch_size': 64, 'epochs': 4}\n",
            "0.994064 (0.002031) with: {'batch_size': 64, 'epochs': 5}\n",
            "0.996549 (0.001019) with: {'batch_size': 64, 'epochs': 6}\n",
            "0.993167 (0.001829) with: {'batch_size': 128, 'epochs': 2}\n",
            "0.994892 (0.001570) with: {'batch_size': 128, 'epochs': 3}\n",
            "0.994823 (0.000448) with: {'batch_size': 128, 'epochs': 4}\n",
            "0.992684 (0.001886) with: {'batch_size': 128, 'epochs': 5}\n",
            "0.992545 (0.001906) with: {'batch_size': 128, 'epochs': 6}\n"
          ]
        }
      ],
      "source": [
        "!pip install scikeras\n",
        "from sklearn.model_selection import GridSearchCV \n",
        "from scikeras.wrappers import KerasClassifier\n",
        "\n",
        "def create_model():\n",
        "  model = Sequential()\n",
        "  model.add(Embedding(total_words, output_dim = 128))\n",
        "  model.add(Bidirectional(LSTM(128)))\n",
        "  model.add(Dense(128, activation = 'relu'))\n",
        "  model.add(Dense(1,activation= 'sigmoid'))\n",
        "  model.compile(optimizer='adam', loss='binary_crossentropy', metrics=['acc'])\n",
        "  model.summary()\n",
        "  return model\n",
        "\n",
        "# create model\n",
        "model = KerasClassifier(model=create_model, verbose=0)\n",
        "# define the grid search parameters\n",
        "batch_size = [32, 64, 128]\n",
        "epochs = [2, 3, 4, 5, 6]\n",
        "param_grid = dict(batch_size=batch_size, epochs=epochs)\n",
        "grid = GridSearchCV(estimator=model, param_grid=param_grid, n_jobs=-1, cv=3)\n",
        "y_train = np.asarray(y_train)\n",
        "grid_result = grid.fit(padded_train, y_train)\n",
        "\n",
        "# summarize results\n",
        "print(\"Best: %f using %s\" % (grid_result.best_score_, grid_result.best_params_))\n",
        "means = grid_result.cv_results_['mean_test_score']\n",
        "stds = grid_result.cv_results_['std_test_score']\n",
        "params = grid_result.cv_results_['params']\n",
        "for mean, stdev, param in zip(means, stds, params):\n",
        "    print(\"%f (%f) with: %r\" % (mean, stdev, param))"
      ]
    },
    {
      "cell_type": "code",
      "execution_count": null,
      "metadata": {
        "colab": {
          "base_uri": "https://localhost:8080/",
          "height": 699
        },
        "id": "9_hko0Uygze9",
        "outputId": "08b8fc12-e6d8-442b-d9f5-8197f1e1d420"
      },
      "outputs": [
        {
          "name": "stdout",
          "output_type": "stream",
          "text": [
            "Model: \"sequential_4\"\n",
            "_________________________________________________________________\n",
            " Layer (type)                Output Shape              Param #   \n",
            "=================================================================\n",
            " embedding_4 (Embedding)     (None, None, 256)         15437312  \n",
            "                                                                 \n",
            " bidirectional_4 (Bidirectio  (None, 256)              394240    \n",
            " nal)                                                            \n",
            "                                                                 \n",
            " dense_8 (Dense)             (None, 128)               32896     \n",
            "                                                                 \n",
            " dense_9 (Dense)             (None, 1)                 129       \n",
            "                                                                 \n",
            "=================================================================\n",
            "Total params: 15,864,577\n",
            "Trainable params: 15,864,577\n",
            "Non-trainable params: 0\n",
            "_________________________________________________________________\n",
            "Epoch 1/2\n",
            "363/363 [==============================] - 124s 330ms/step - loss: 0.0707 - acc: 0.9722 - val_loss: 0.0047 - val_acc: 0.9990\n",
            "Epoch 2/2\n",
            "363/363 [==============================] - 118s 326ms/step - loss: 0.0016 - acc: 0.9997 - val_loss: 0.0061 - val_acc: 0.9979\n",
            "114/114 [==============================] - 6s 49ms/step\n",
            "Model Accuracy :  0.9914435550648634\n"
          ]
        },
        {
          "data": {
            "text/plain": [
              "<matplotlib.legend.Legend at 0x7f18b003c510>"
            ]
          },
          "execution_count": 18,
          "metadata": {},
          "output_type": "execute_result"
        },
        {
          "data": {
            "image/png": "[encoded data removed]",
            "text/plain": [
              "<Figure size 432x288 with 1 Axes>"
            ]
          },
          "metadata": {},
          "output_type": "display_data"
        }
      ],
      "source": [
        "# Sequential Model\n",
        "model = Sequential()\n",
        "\n",
        "# embeddidng layer\n",
        "# model.add(Embedding(total_words, output_dim = 128))\n",
        "model.add(Embedding(total_words, output_dim = 256))\n",
        "\n",
        "\n",
        "# Bi-Directional RNN and LSTM\n",
        "model.add(Bidirectional(LSTM(128)))\n",
        "\n",
        "# Dense layers\n",
        "model.add(Dense(128, activation = 'relu'))\n",
        "model.add(Dense(1,activation= 'sigmoid'))\n",
        "model.compile(optimizer='adam', loss='binary_crossentropy', metrics=['acc'])\n",
        "model.summary()\n",
        "y_train = np.asarray(y_train)\n",
        "# train the model\n",
        "trained=model.fit(padded_train, y_train, batch_size = 32, validation_split = 0.2, epochs = 2)\n",
        "# make prediction\n",
        "pred = model.predict(padded_test)\n",
        "# if the predicted value is > 0.95 it is real else it is fake\n",
        "prediction = []\n",
        "for i in range(len(pred)):\n",
        "    if pred[i].item() > 0.95:\n",
        "        prediction.append(1)\n",
        "    else:\n",
        "        prediction.append(0)\n",
        "# getting the accuracy\n",
        "accuracy = accuracy_score(list(y_test), prediction)\n",
        "print(\"Model Accuracy : \", accuracy)\n",
        "import matplotlib.pyplot as plt\n",
        "plt.plot(trained.history['loss'], label='loss')\n",
        "plt.plot(trained.history['val_loss'], label='val_loss')\n",
        "plt.legend()"
      ]
    },
    {
      "cell_type": "code",
      "execution_count": null,
      "metadata": {
        "id": "aTudYEwQAG4T"
      },
      "outputs": [],
      "source": [
        "model = tf.keras.Sequential([\n",
        "    tf.keras.layers.Embedding(total_words, 128),\n",
        "    tf.keras.layers.Bidirectional(tf.keras.layers.LSTM(256,  return_sequences=True)),\n",
        "    tf.keras.layers.Bidirectional(tf.keras.layers.LSTM(64)),\n",
        "    tf.keras.layers.Dense(256, activation='relu'),\n",
        "    tf.keras.layers.Dropout(0.5),\n",
        "    tf.keras.layers.Dense(1)\n",
        "])\n",
        "model.summary()\n",
        "\n",
        "y_train = np.asarray(y_train)\n",
        "# train the model\n",
        "early_stop = tf.keras.callbacks.EarlyStopping(monitor='val_loss', patience=2, restore_best_weights=True)\n",
        "model.compile(loss=tf.keras.losses.BinaryCrossentropy(from_logits=True),\n",
        "              optimizer=tf.keras.optimizers.Adam(1e-4),\n",
        "              metrics=['accuracy'])\n",
        "trained = model.fit(padded_train, y_train, epochs=5,validation_split=0.1, batch_size=32, shuffle=True, callbacks=[early_stop])\n",
        "# make prediction\n",
        "pred = model.predict(padded_test)\n",
        "# if the predicted value is > 0.95 it is real else it is fake\n",
        "prediction = []\n",
        "for i in range(len(pred)):\n",
        "    if pred[i].item() > 0.95:\n",
        "        prediction.append(1)\n",
        "    else:\n",
        "        prediction.append(0)\n",
        "# getting the accuracy\n",
        "accuracy = accuracy_score(list(y_test), prediction)\n",
        "print(\"Model Accuracy : \", accuracy)"
      ]
    },
    {
      "cell_type": "code",
      "execution_count": null,
      "metadata": {
        "colab": {
          "base_uri": "https://localhost:8080/"
        },
        "id": "cM3Q1e6JouTD",
        "outputId": "d3d84bd5-21c9-49bd-e709-c2005f397fd2"
      },
      "outputs": [
        {
          "name": "stdout",
          "output_type": "stream",
          "text": [
            "Model: \"sequential_2\"\n",
            "_________________________________________________________________\n",
            " Layer (type)                Output Shape              Param #   \n",
            "=================================================================\n",
            " embedding_2 (Embedding)     (None, None, 128)         8133632   \n",
            "                                                                 \n",
            " lstm_2 (LSTM)               (None, 64)                49408     \n",
            "                                                                 \n",
            " dense_4 (Dense)             (None, 32)                2080      \n",
            "                                                                 \n",
            " dense_5 (Dense)             (None, 1)                 33        \n",
            "                                                                 \n",
            "=================================================================\n",
            "Total params: 8,185,153\n",
            "Trainable params: 8,185,153\n",
            "Non-trainable params: 0\n",
            "_________________________________________________________________\n",
            "Epoch 1/2\n",
            "304/304 [==============================] - 43s 133ms/step - loss: 0.1036 - acc: 0.9565 - val_loss: 0.0150 - val_acc: 0.9975\n",
            "Epoch 2/2\n",
            "304/304 [==============================] - 37s 123ms/step - loss: 0.0038 - acc: 0.9993 - val_loss: 0.0145 - val_acc: 0.9971\n",
            "187/187 [==============================] - 2s 10ms/step\n",
            "Model Accuracy :  0.9956499916345993\n"
          ]
        }
      ],
      "source": [
        "# Sequential Model\n",
        "model = Sequential()\n",
        "# embeddidng layer\n",
        "model.add(Embedding(input_dim = total_words, output_dim = 128))\n",
        "# LSTM\n",
        "model.add(LSTM(64))\n",
        "# Dense layers\n",
        "model.add(Dense(32, activation='relu'))\n",
        "model.add(Dense(1, activation='sigmoid'))\n",
        "model.compile(optimizer='adam', loss='binary_crossentropy', metrics=['acc'])\n",
        "model.summary()\n",
        "\n",
        "y_train = np.asarray(y_train)\n",
        "# train the model\n",
        "trained = model.fit(padded_train, y_train, batch_size=32, validation_split=0.2, epochs=2)\n",
        "# make prediction\n",
        "pred = model.predict(padded_test)\n",
        "# if the predicted value is > 0.95 it is real else it is fake\n",
        "prediction = []\n",
        "for i in range(len(pred)):\n",
        "    if pred[i].item() > 0.95:\n",
        "        prediction.append(1)\n",
        "    else:\n",
        "        prediction.append(0)\n",
        "# getting the accuracy\n",
        "accuracy = accuracy_score(list(y_test), prediction)\n",
        "print(\"Model Accuracy : \", accuracy)"
      ]
    },
    {
      "cell_type": "code",
      "execution_count": null,
      "metadata": {
        "colab": {
          "base_uri": "https://localhost:8080/",
          "height": 282
        },
        "id": "ChKukLZ77-bT",
        "outputId": "86873ce3-2b26-4278-c6ea-94cac0e3f24c"
      },
      "outputs": [
        {
          "data": {
            "text/plain": [
              "<matplotlib.legend.Legend at 0x7f4d67dfda50>"
            ]
          },
          "execution_count": 28,
          "metadata": {},
          "output_type": "execute_result"
        },
        {
          "data": {
            "image/png": "[encoded data removed]",
            "text/plain": [
              "<Figure size 432x288 with 1 Axes>"
            ]
          },
          "metadata": {},
          "output_type": "display_data"
        }
      ],
      "source": [
        "import matplotlib.pyplot as plt\n",
        "plt.plot(trained.history['loss'], label='loss')\n",
        "plt.plot(trained.history['val_loss'], label='val_loss')\n",
        "plt.legend()"
      ]
    },
    {
      "cell_type": "code",
      "execution_count": null,
      "metadata": {
        "colab": {
          "base_uri": "https://localhost:8080/",
          "height": 282
        },
        "id": "GRjyx19n8Frj",
        "outputId": "55b1a8d0-bdd3-491d-ec60-3b28f1cb4725"
      },
      "outputs": [
        {
          "data": {
            "text/plain": [
              "<matplotlib.legend.Legend at 0x7f4d5f775ad0>"
            ]
          },
          "execution_count": 32,
          "metadata": {},
          "output_type": "execute_result"
        },
        {
          "data": {
            "image/png": "[encoded data removed]",
            "text/plain": [
              "<Figure size 432x288 with 1 Axes>"
            ]
          },
          "metadata": {},
          "output_type": "display_data"
        }
      ],
      "source": [
        "import matplotlib.pyplot as plt\n",
        "plt.plot(trained.history['acc'], label='accuracy')\n",
        "plt.plot(trained.history['val_acc'], label='val_accuracy')\n",
        "plt.legend()"
      ]
    },
    {
      "cell_type": "code",
      "execution_count": null,
      "metadata": {
        "colab": {
          "base_uri": "https://localhost:8080/"
        },
        "id": "SZO_hII41Uvh",
        "outputId": "062dc00d-1800-4093-cb0e-6df666807e1f"
      },
      "outputs": [
        {
          "name": "stdout",
          "output_type": "stream",
          "text": [
            "Model: \"sequential_4\"\n",
            "_________________________________________________________________\n",
            " Layer (type)                Output Shape              Param #   \n",
            "=================================================================\n",
            " embedding_4 (Embedding)     (None, None, 128)         8133632   \n",
            "                                                                 \n",
            " bidirectional_2 (Bidirectio  (None, 256)              263168    \n",
            " nal)                                                            \n",
            "                                                                 \n",
            " dense_8 (Dense)             (None, 64)                16448     \n",
            "                                                                 \n",
            " dense_9 (Dense)             (None, 1)                 65        \n",
            "                                                                 \n",
            "=================================================================\n",
            "Total params: 8,413,313\n",
            "Trainable params: 8,413,313\n",
            "Non-trainable params: 0\n",
            "_________________________________________________________________\n",
            "Epoch 1/5\n",
            "171/171 [==============================] - 51s 276ms/step - loss: 0.1003 - acc: 0.9547 - val_loss: 0.0132 - val_acc: 0.9959\n",
            "Epoch 2/5\n",
            "171/171 [==============================] - 52s 306ms/step - loss: 0.0011 - acc: 0.9997 - val_loss: 0.0083 - val_acc: 0.9975\n",
            "Epoch 3/5\n",
            "171/171 [==============================] - 48s 279ms/step - loss: 2.4910e-05 - acc: 1.0000 - val_loss: 0.0095 - val_acc: 0.9967\n",
            "Epoch 4/5\n",
            "171/171 [==============================] - 48s 279ms/step - loss: 1.0179e-05 - acc: 1.0000 - val_loss: 0.0103 - val_acc: 0.9967\n",
            "Epoch 5/5\n",
            "171/171 [==============================] - 47s 275ms/step - loss: 6.3403e-06 - acc: 1.0000 - val_loss: 0.0109 - val_acc: 0.9967\n",
            "187/187 [==============================] - 9s 43ms/step\n",
            "Model Accuracy :  0.9938096034800067\n"
          ]
        }
      ],
      "source": [
        "# Sequential Model\n",
        "model1 = Sequential()\n",
        "# embeddidng layer\n",
        "model1.add(Embedding(total_words, output_dim=128))\n",
        "# Bi-Directional RNN and LSTM\n",
        "model1.add(Bidirectional(LSTM(128)))\n",
        "# Dense layers\n",
        "model1.add(Dense(64, activation='relu'))\n",
        "model1.add(Dense(1, activation='sigmoid'))\n",
        "model1.compile(optimizer='adam', loss='binary_crossentropy', metrics=['acc'])\n",
        "model1.summary()\n",
        "\n",
        "y_train = np.asarray(y_train)\n",
        "# train the model\n",
        "trained = model1.fit(padded_train, y_train, batch_size=64, validation_split=0.1, epochs=5)\n",
        "# make prediction\n",
        "pred = model1.predict(padded_test)\n",
        "# if the predicted value is > 0.95 it is real else it is fake\n",
        "prediction = []\n",
        "for i in range(len(pred)):\n",
        "    if pred[i].item() > 0.95:\n",
        "        prediction.append(1)\n",
        "    else:\n",
        "        prediction.append(0)\n",
        "# getting the accuracy\n",
        "accuracy = accuracy_score(list(y_test), prediction)\n",
        "print(\"Model Accuracy : \", accuracy)"
      ]
    },
    {
      "cell_type": "code",
      "execution_count": null,
      "metadata": {
        "colab": {
          "base_uri": "https://localhost:8080/",
          "height": 282
        },
        "id": "1u7G2URv-jGW",
        "outputId": "e6c83991-06ad-46d8-bcaf-e91eb02a7f00"
      },
      "outputs": [
        {
          "data": {
            "text/plain": [
              "<matplotlib.legend.Legend at 0x7f4d5eec3c10>"
            ]
          },
          "execution_count": 35,
          "metadata": {},
          "output_type": "execute_result"
        },
        {
          "data": {
            "image/png": "[encoded data removed]",
            "text/plain": [
              "<Figure size 432x288 with 1 Axes>"
            ]
          },
          "metadata": {},
          "output_type": "display_data"
        }
      ],
      "source": [
        "import matplotlib.pyplot as plt\n",
        "plt.plot(trained.history['loss'], label='loss')\n",
        "plt.plot(trained.history['val_loss'], label='val_loss')\n",
        "plt.legend()"
      ]
    },
    {
      "cell_type": "code",
      "execution_count": null,
      "metadata": {
        "colab": {
          "base_uri": "https://localhost:8080/",
          "height": 282
        },
        "id": "sxJkhZq6-s4U",
        "outputId": "82f49073-4910-44f5-f286-fcef02529435"
      },
      "outputs": [
        {
          "data": {
            "text/plain": [
              "<matplotlib.legend.Legend at 0x7f4d5efe4410>"
            ]
          },
          "execution_count": 36,
          "metadata": {},
          "output_type": "execute_result"
        },
        {
          "data": {
            "image/png": "[encoded data removed]",
            "text/plain": [
              "<Figure size 432x288 with 1 Axes>"
            ]
          },
          "metadata": {},
          "output_type": "display_data"
        }
      ],
      "source": [
        "import matplotlib.pyplot as plt\n",
        "plt.plot(trained.history['acc'], label='accuracy')\n",
        "plt.plot(trained.history['val_acc'], label='val_accuracy')\n",
        "plt.legend()"
      ]
    },
    {
      "cell_type": "code",
      "execution_count": null,
      "metadata": {
        "colab": {
          "base_uri": "https://localhost:8080/"
        },
        "id": "Xt3p02OP1dVG",
        "outputId": "c53e140b-c8e7-4250-d759-76cd4fc5e7d6"
      },
      "outputs": [
        {
          "name": "stdout",
          "output_type": "stream",
          "text": [
            "Model: \"sequential_5\"\n",
            "_________________________________________________________________\n",
            " Layer (type)                Output Shape              Param #   \n",
            "=================================================================\n",
            " embedding_5 (Embedding)     (None, None, 128)         8133632   \n",
            "                                                                 \n",
            " bidirectional_3 (Bidirectio  (None, 128)              98816     \n",
            " nal)                                                            \n",
            "                                                                 \n",
            " dense_10 (Dense)            (None, 32)                4128      \n",
            "                                                                 \n",
            " dense_11 (Dense)            (None, 1)                 33        \n",
            "                                                                 \n",
            "=================================================================\n",
            "Total params: 8,236,609\n",
            "Trainable params: 8,236,609\n",
            "Non-trainable params: 0\n",
            "_________________________________________________________________\n",
            "Epoch 1/5\n",
            "342/342 [==============================] - 62s 136ms/step - loss: 0.0744 - acc: 0.9672 - val_loss: 0.0084 - val_acc: 0.9984\n",
            "Epoch 2/5\n",
            "342/342 [==============================] - 48s 142ms/step - loss: 4.6714e-04 - acc: 0.9998 - val_loss: 0.0109 - val_acc: 0.9967\n",
            "Epoch 3/5\n",
            "342/342 [==============================] - 47s 137ms/step - loss: 1.3888e-04 - acc: 0.9999 - val_loss: 0.0043 - val_acc: 0.9992\n",
            "Epoch 4/5\n",
            "342/342 [==============================] - 47s 137ms/step - loss: 1.5411e-05 - acc: 1.0000 - val_loss: 0.0042 - val_acc: 0.9992\n",
            "Epoch 5/5\n",
            "342/342 [==============================] - 46s 133ms/step - loss: 9.2862e-06 - acc: 1.0000 - val_loss: 0.0041 - val_acc: 0.9992\n",
            "187/187 [==============================] - 3s 14ms/step\n",
            "Model Accuracy :  0.9961519156767609\n"
          ]
        }
      ],
      "source": [
        "# Sequential Model\n",
        "model2 = Sequential()\n",
        "# embeddidng layer\n",
        "model2.add(Embedding(total_words, output_dim=128))\n",
        "# Bi-Directional RNN and LSTM\n",
        "model2.add(Bidirectional(LSTM(64)))\n",
        "# Dense layers\n",
        "model2.add(Dense(32, activation='relu'))\n",
        "model2.add(Dense(1, activation='sigmoid'))\n",
        "model2.compile(optimizer='adam', loss='binary_crossentropy', metrics=['acc'])\n",
        "model2.summary()\n",
        "\n",
        "y_train = np.asarray(y_train)\n",
        "# train the model\n",
        "trained = model2.fit(padded_train, y_train, batch_size=32, validation_split=0.1, epochs=5)\n",
        "# make prediction\n",
        "pred = model2.predict(padded_test)\n",
        "# if the predicted value is > 0.95 it is real else it is fake\n",
        "prediction = []\n",
        "for i in range(len(pred)):\n",
        "    if pred[i].item() > 0.95:\n",
        "        prediction.append(1)\n",
        "    else:\n",
        "        prediction.append(0)\n",
        "# getting the accuracy\n",
        "accuracy = accuracy_score(list(y_test), prediction)\n",
        "print(\"Model Accuracy : \", accuracy)"
      ]
    },
    {
      "cell_type": "code",
      "execution_count": null,
      "metadata": {
        "colab": {
          "base_uri": "https://localhost:8080/"
        },
        "id": "cupMyJ_U2fsI",
        "outputId": "01126357-16f5-4dd8-bfb0-4886fb66b731"
      },
      "outputs": [
        {
          "name": "stdout",
          "output_type": "stream",
          "text": [
            "Model: \"sequential_6\"\n",
            "_________________________________________________________________\n",
            " Layer (type)                Output Shape              Param #   \n",
            "=================================================================\n",
            " embedding_6 (Embedding)     (None, None, 240)         15250560  \n",
            "                                                                 \n",
            " bidirectional_4 (Bidirectio  (None, 480)              923520    \n",
            " nal)                                                            \n",
            "                                                                 \n",
            " dense_12 (Dense)            (None, 64)                30784     \n",
            "                                                                 \n",
            " dense_13 (Dense)            (None, 1)                 65        \n",
            "                                                                 \n",
            "=================================================================\n",
            "Total params: 16,204,929\n",
            "Trainable params: 16,204,929\n",
            "Non-trainable params: 0\n",
            "_________________________________________________________________\n",
            "Epoch 1/5\n",
            "171/171 [==============================] - 116s 656ms/step - loss: 0.0795 - acc: 0.9674 - val_loss: 0.0094 - val_acc: 0.9984\n",
            "Epoch 2/5\n",
            "171/171 [==============================] - 110s 645ms/step - loss: 0.0025 - acc: 0.9995 - val_loss: 0.0105 - val_acc: 0.9975\n",
            "Epoch 3/5\n",
            "171/171 [==============================] - 110s 645ms/step - loss: 8.2261e-06 - acc: 1.0000 - val_loss: 0.0114 - val_acc: 0.9984\n",
            "Epoch 4/5\n",
            "171/171 [==============================] - 108s 630ms/step - loss: 4.2358e-06 - acc: 1.0000 - val_loss: 0.0118 - val_acc: 0.9984\n",
            "Epoch 5/5\n",
            "171/171 [==============================] - 110s 643ms/step - loss: 2.7207e-06 - acc: 1.0000 - val_loss: 0.0122 - val_acc: 0.9984\n",
            "187/187 [==============================] - 18s 92ms/step\n",
            "Model Accuracy :  0.9961519156767609\n"
          ]
        }
      ],
      "source": [
        "# Sequential Model\n",
        "model2 = Sequential()\n",
        "# embeddidng layer\n",
        "model2.add(Embedding(total_words, output_dim=240))\n",
        "# Bi-Directional RNN and LSTM\n",
        "model2.add(Bidirectional(LSTM(240)))\n",
        "# Dense layers\n",
        "model2.add(Dense(64, activation='relu'))\n",
        "model2.add(Dense(1, activation='sigmoid'))\n",
        "model2.compile(optimizer='adam', loss='binary_crossentropy', metrics=['acc'])\n",
        "model2.summary()\n",
        "\n",
        "y_train = np.asarray(y_train)\n",
        "# train the model\n",
        "trained = model2.fit(padded_train, y_train, batch_size=64, validation_split=0.1, epochs=5)\n",
        "# make prediction\n",
        "pred = model2.predict(padded_test)\n",
        "# if the predicted value is > 0.95 it is real else it is fake\n",
        "prediction = []\n",
        "for i in range(len(pred)):\n",
        "    if pred[i].item() > 0.95:\n",
        "        prediction.append(1)\n",
        "    else:\n",
        "        prediction.append(0)\n",
        "# getting the accuracy\n",
        "accuracy = accuracy_score(list(y_test), prediction)\n",
        "print(\"Model Accuracy : \", accuracy)"
      ]
    },
    {
      "cell_type": "code",
      "execution_count": null,
      "metadata": {
        "colab": {
          "base_uri": "https://localhost:8080/",
          "height": 282
        },
        "id": "as97vMqePTF1",
        "outputId": "6f698798-e55c-46f1-aba4-e49329309d7c"
      },
      "outputs": [
        {
          "data": {
            "text/plain": [
              "<matplotlib.legend.Legend at 0x7f4d6579c7d0>"
            ]
          },
          "execution_count": 39,
          "metadata": {},
          "output_type": "execute_result"
        },
        {
          "data": {
            "image/png": "[encoded data removed]",
            "text/plain": [
              "<Figure size 432x288 with 1 Axes>"
            ]
          },
          "metadata": {},
          "output_type": "display_data"
        }
      ],
      "source": [
        "import matplotlib.pyplot as plt\n",
        "plt.plot(trained.history['acc'], label='accuracy')\n",
        "plt.plot(trained.history['val_acc'], label='val_accuracy')\n",
        "plt.legend()"
      ]
    },
    {
      "cell_type": "code",
      "execution_count": null,
      "metadata": {
        "colab": {
          "base_uri": "https://localhost:8080/"
        },
        "id": "Zc6Ccs067ptL",
        "outputId": "929bc5b9-a444-48c2-8da2-16f6794f6ffb"
      },
      "outputs": [
        {
          "name": "stdout",
          "output_type": "stream",
          "text": [
            "Model: \"sequential_3\"\n",
            "_________________________________________________________________\n",
            " Layer (type)                Output Shape              Param #   \n",
            "=================================================================\n",
            " embedding_3 (Embedding)     (None, None, 240)         19918080  \n",
            "                                                                 \n",
            " bidirectional_3 (Bidirectio  (None, 256)              377856    \n",
            " nal)                                                            \n",
            "                                                                 \n",
            " dense_6 (Dense)             (None, 128)               32896     \n",
            "                                                                 \n",
            " dense_7 (Dense)             (None, 1)                 129       \n",
            "                                                                 \n",
            "=================================================================\n",
            "Total params: 20,328,961\n",
            "Trainable params: 20,328,961\n",
            "Non-trainable params: 0\n",
            "_________________________________________________________________\n",
            "Epoch 1/5\n",
            "204/204 [==============================] - 111s 521ms/step - loss: 0.0753 - acc: 0.9642 - val_loss: 0.0042 - val_acc: 0.9986\n",
            "Epoch 2/5\n",
            "204/204 [==============================] - 97s 476ms/step - loss: 0.0022 - acc: 0.9997 - val_loss: 0.0021 - val_acc: 0.9993\n",
            "Epoch 3/5\n",
            "204/204 [==============================] - 104s 508ms/step - loss: 2.6256e-04 - acc: 0.9999 - val_loss: 0.0017 - val_acc: 0.9993\n",
            "Epoch 4/5\n",
            "204/204 [==============================] - 102s 499ms/step - loss: 1.1496e-05 - acc: 1.0000 - val_loss: 0.0038 - val_acc: 0.9979\n",
            "Epoch 5/5\n",
            "204/204 [==============================] - 100s 493ms/step - loss: 2.7397e-06 - acc: 1.0000 - val_loss: 0.0045 - val_acc: 0.9979\n",
            "114/114 [==============================] - 8s 60ms/step\n",
            "Model Accuracy :  0.9966887417218543\n"
          ]
        }
      ],
      "source": [
        "# Sequential Model\n",
        "model = Sequential()\n",
        "\n",
        "# Embeddidng layer\n",
        "model.add(Embedding(total_words, output_dim = 240))\n",
        "\n",
        "\n",
        "# Bi-Directional RNN and LSTM\n",
        "model.add(Bidirectional(LSTM(128)))\n",
        "\n",
        "# Dense layers\n",
        "model.add(Dense(128, activation = 'relu'))\n",
        "model.add(Dense(1,activation= 'sigmoid'))\n",
        "model.compile(optimizer='adam', loss='binary_crossentropy', metrics=['acc'])\n",
        "model.summary()\n",
        "\n",
        "\n",
        "y_train = np.asarray(y_train)\n",
        "# train the model\n",
        "model.fit(padded_train, y_train, batch_size=64, validation_split=0.1, epochs=5)\n",
        "# make prediction\n",
        "pred = model.predict(padded_test)\n",
        "# if the predicted value is > 0.95 it is real else it is fake\n",
        "prediction = []\n",
        "for i in range(len(pred)):\n",
        "    if pred[i].item() > 0.95:\n",
        "        prediction.append(1)\n",
        "    else:\n",
        "        prediction.append(0)\n",
        "# getting the accuracy\n",
        "accuracy = accuracy_score(list(y_test), prediction)\n",
        "print(\"Model Accuracy : \", accuracy)"
      ]
    },
    {
      "cell_type": "code",
      "execution_count": null,
      "metadata": {
        "colab": {
          "base_uri": "https://localhost:8080/"
        },
        "id": "jQG0LCcj4Ohk",
        "outputId": "21ae510d-baf8-4131-a735-d8358599d2e0"
      },
      "outputs": [
        {
          "name": "stdout",
          "output_type": "stream",
          "text": [
            "Model: \"sequential_10\"\n",
            "_________________________________________________________________\n",
            " Layer (type)                Output Shape              Param #   \n",
            "=================================================================\n",
            " embedding_10 (Embedding)    (None, None, 240)         19918080  \n",
            "                                                                 \n",
            " bidirectional_8 (Bidirectio  (None, 480)              923520    \n",
            " nal)                                                            \n",
            "                                                                 \n",
            " dense_20 (Dense)            (None, 128)               61568     \n",
            "                                                                 \n",
            " dense_21 (Dense)            (None, 1)                 129       \n",
            "                                                                 \n",
            "=================================================================\n",
            "Total params: 20,903,297\n",
            "Trainable params: 20,903,297\n",
            "Non-trainable params: 0\n",
            "_________________________________________________________________\n",
            "Epoch 1/5\n",
            "204/204 [==============================] - 161s 762ms/step - loss: 0.0752 - acc: 0.9689 - val_loss: 0.0148 - val_acc: 0.9966\n",
            "Epoch 2/5\n",
            "204/204 [==============================] - 151s 740ms/step - loss: 9.1768e-04 - acc: 0.9998 - val_loss: 0.0157 - val_acc: 0.9952\n",
            "Epoch 3/5\n",
            "204/204 [==============================] - 149s 729ms/step - loss: 1.0325e-04 - acc: 1.0000 - val_loss: 0.0038 - val_acc: 0.9979\n",
            "Epoch 4/5\n",
            "204/204 [==============================] - 156s 765ms/step - loss: 9.7833e-04 - acc: 0.9998 - val_loss: 0.0593 - val_acc: 0.9924\n",
            "Epoch 5/5\n",
            "204/204 [==============================] - 153s 748ms/step - loss: 0.0077 - acc: 0.9983 - val_loss: 0.0219 - val_acc: 0.9938\n",
            "114/114 [==============================] - 14s 116ms/step\n",
            "Model Accuracy :  0.9900662251655629\n"
          ]
        }
      ],
      "source": [
        "# Sequential Model\n",
        "model = Sequential()\n",
        "\n",
        "# Embeddidng layer\n",
        "model.add(Embedding(total_words, output_dim = 240))\n",
        "\n",
        "\n",
        "# Bi-Directional RNN and LSTM\n",
        "model.add(Bidirectional(LSTM(240)))\n",
        "\n",
        "# Dense layers\n",
        "model.add(Dense(128, activation = 'relu'))\n",
        "model.add(Dense(1,activation= 'sigmoid'))\n",
        "model.compile(optimizer='adam', loss='binary_crossentropy', metrics=['acc'])\n",
        "model.summary()\n",
        "\n",
        "\n",
        "y_train = np.asarray(y_train)\n",
        "# train the model\n",
        "model.fit(padded_train, y_train, batch_size=64, validation_split=0.1, epochs=5)\n",
        "# make prediction\n",
        "pred = model.predict(padded_test)\n",
        "# if the predicted value is > 0.95 it is real else it is fake\n",
        "prediction = []\n",
        "for i in range(len(pred)):\n",
        "    if pred[i].item() > 0.95:\n",
        "        prediction.append(1)\n",
        "    else:\n",
        "        prediction.append(0)\n",
        "# getting the accuracy\n",
        "accuracy = accuracy_score(list(y_test), prediction)\n",
        "print(\"Model Accuracy : \", accuracy)"
      ]
    },
    {
      "cell_type": "code",
      "execution_count": null,
      "metadata": {
        "colab": {
          "base_uri": "https://localhost:8080/"
        },
        "id": "ahKpqki1mYRF",
        "outputId": "44f8f387-65e6-4cd9-b882-7d200661474e"
      },
      "outputs": [
        {
          "name": "stdout",
          "output_type": "stream",
          "text": [
            "Model: \"sequential_7\"\n",
            "_________________________________________________________________\n",
            " Layer (type)                Output Shape              Param #   \n",
            "=================================================================\n",
            " embedding_7 (Embedding)     (None, None, 128)         10622976  \n",
            "                                                                 \n",
            " bidirectional_10 (Bidirecti  (None, 256)              263168    \n",
            " onal)                                                           \n",
            "                                                                 \n",
            " dense_8 (Dense)             (None, 128)               32896     \n",
            "                                                                 \n",
            " dense_9 (Dense)             (None, 1)                 129       \n",
            "                                                                 \n",
            "=================================================================\n",
            "Total params: 10,919,169\n",
            "Trainable params: 10,919,169\n",
            "Non-trainable params: 0\n",
            "_________________________________________________________________\n",
            "Epoch 1/5\n",
            "204/204 [==============================] - 60s 275ms/step - loss: 0.0826 - acc: 0.9605 - val_loss: 0.0107 - val_acc: 0.9979\n",
            "Epoch 2/5\n",
            "204/204 [==============================] - 54s 266ms/step - loss: 0.0028 - acc: 0.9991 - val_loss: 0.0111 - val_acc: 0.9972\n",
            "Epoch 3/5\n",
            "204/204 [==============================] - 54s 263ms/step - loss: 3.8891e-04 - acc: 0.9998 - val_loss: 0.0118 - val_acc: 0.9979\n",
            "Epoch 4/5\n",
            "204/204 [==============================] - 54s 263ms/step - loss: 1.1360e-04 - acc: 1.0000 - val_loss: 0.0133 - val_acc: 0.9979\n",
            "Epoch 5/5\n",
            "204/204 [==============================] - 56s 274ms/step - loss: 7.7973e-06 - acc: 1.0000 - val_loss: 0.0140 - val_acc: 0.9979\n",
            "114/114 [==============================] - 5s 36ms/step\n",
            "Model Accuracy :  0.9972406181015453\n"
          ]
        }
      ],
      "source": [
        "# Sequential Model\n",
        "model = Sequential()\n",
        "\n",
        "# Embeddidng layer\n",
        "model.add(Embedding(total_words, output_dim = 128))\n",
        "\n",
        "\n",
        "# Bi-Directional RNN and LSTM\n",
        "model.add(Bidirectional(LSTM(128)))\n",
        "\n",
        "# Dense layers\n",
        "model.add(Dense(128, activation = 'relu'))\n",
        "model.add(Dense(1,activation= 'sigmoid'))\n",
        "model.compile(optimizer='adam', loss='binary_crossentropy', metrics=['acc'])\n",
        "model.summary()\n",
        "\n",
        "y_train = np.asarray(y_train)\n",
        "# Training the model\n",
        "model.fit(padded_train, y_train, batch_size = 64, validation_split = 0.1, epochs = 5)\n",
        "# Making prediction\n",
        "pred = model.predict(padded_test)\n",
        "# If The Predicted Value Is >0.95 (i.e., More Than 95%), It Is Real Else It Is Fake\n",
        "prediction = []\n",
        "for i in range(len(pred)):\n",
        "    if pred[i].item() > 0.95:\n",
        "        prediction.append(1)\n",
        "    else:\n",
        "        prediction.append(0)\n",
        "# Getting The Accuracy\n",
        "from sklearn.metrics import accuracy_score\n",
        "\n",
        "accuracy = accuracy_score(list(y_test), prediction)\n",
        "\n",
        "print(\"Model Accuracy : \", accuracy)"
      ]
    },
    {
      "cell_type": "markdown",
      "metadata": {
        "id": "JjBwcGf7byb8"
      },
      "source": [
        "*Dense layerlayer*"
      ]
    },
    {
      "cell_type": "code",
      "execution_count": null,
      "metadata": {
        "colab": {
          "base_uri": "https://localhost:8080/"
        },
        "id": "a6gZskOpbxRZ",
        "outputId": "00bc7311-9994-4223-db09-647e9ae75159"
      },
      "outputs": [
        {
          "name": "stdout",
          "output_type": "stream",
          "text": [
            "Model: \"model\"\n",
            "_________________________________________________________________\n",
            " Layer (type)                Output Shape              Param #   \n",
            "=================================================================\n",
            " inputs (InputLayer)         [(None, 40)]              0         \n",
            "                                                                 \n",
            " embedding_11 (Embedding)    (None, 40, 128)           10622976  \n",
            "                                                                 \n",
            " lstm_11 (LSTM)              (None, 256)               394240    \n",
            "                                                                 \n",
            " FC1 (Dense)                 (None, 128)               32896     \n",
            "                                                                 \n",
            " activation (Activation)     (None, 128)               0         \n",
            "                                                                 \n",
            " dropout (Dropout)           (None, 128)               0         \n",
            "                                                                 \n",
            " out_layer (Dense)           (None, 1)                 129       \n",
            "                                                                 \n",
            " activation_1 (Activation)   (None, 1)                 0         \n",
            "                                                                 \n",
            "=================================================================\n",
            "Total params: 11,050,241\n",
            "Trainable params: 11,050,241\n",
            "Non-trainable params: 0\n",
            "_________________________________________________________________\n",
            "Epoch 1/5\n",
            "102/102 [==============================] - 62s 582ms/step - loss: 0.1459 - accuracy: 0.9298 - val_loss: 0.0217 - val_accuracy: 0.9952\n",
            "Epoch 2/5\n",
            "102/102 [==============================] - 57s 557ms/step - loss: 0.0044 - accuracy: 0.9989 - val_loss: 0.0173 - val_accuracy: 0.9966\n"
          ]
        },
        {
          "data": {
            "text/plain": [
              "<keras.callbacks.History at 0x7f0b7bf09190>"
            ]
          },
          "execution_count": 19,
          "metadata": {},
          "output_type": "execute_result"
        }
      ],
      "source": [
        "from tensorflow.keras.layers import Input, Activation, Dropout, TimeDistributed\n",
        "from tensorflow.keras.optimizers import Adam\n",
        "from tensorflow.keras.callbacks import EarlyStopping\n",
        "def RNN_Dense(maxword=total_words, embedding_size=128, max_len=40, n_unit_lstm=256, n_unit_dense=128):\n",
        "    inputs = Input(name='inputs', shape=[max_len])\n",
        "    layer = Embedding(maxword, embedding_size, input_length=max_len)(inputs)\n",
        "    # Embedding (input_dim: size of vocabolary, \n",
        "    # output_dim: dimension of dense embedding, \n",
        "    # input_length: length of input sequence)\n",
        "    layer = LSTM(n_unit_lstm)(layer)\n",
        "    layer = Dense(n_unit_dense, name='FC1')(layer)\n",
        "    layer = Activation('relu')(layer)\n",
        "    layer = Dropout(0.5)(layer)\n",
        "    layer = Dense(1, name='out_layer')(layer)\n",
        "    layer = Activation('sigmoid')(layer)\n",
        "    model = Model(inputs=inputs,outputs=layer)\n",
        "    return model\n",
        "\n",
        "lstm_dense=RNN_Dense()\n",
        "lstm_dense.summary()\n",
        "lstm_dense.compile(loss='binary_crossentropy', optimizer=Adam(), metrics=['accuracy'])\n",
        "\n",
        "lstm_dense.fit(padded_train, y_train, batch_size=128,\n",
        "               epochs=5,\n",
        "               validation_split=0.1,\n",
        "               callbacks=[EarlyStopping(monitor='val_loss',min_delta=0.0001)])"
      ]
    },
    {
      "cell_type": "code",
      "execution_count": null,
      "metadata": {
        "colab": {
          "base_uri": "https://localhost:8080/"
        },
        "id": "KhvTbeZPgfH3",
        "outputId": "64c06250-1d75-49aa-c3bd-47441b06437f"
      },
      "outputs": [
        {
          "name": "stdout",
          "output_type": "stream",
          "text": [
            "114/114 [==============================] - 7s 55ms/step\n",
            "Model Accuracy :  0.9942052980132451\n"
          ]
        }
      ],
      "source": [
        "pred = lstm_dense.predict(padded_test)\n",
        "# If The Predicted Value Is >0.95 (i.e., More Than 95%), It Is Real Else It Is Fake\n",
        "prediction = []\n",
        "for i in range(len(pred)):\n",
        "    if pred[i].item() > 0.99:\n",
        "        prediction.append(1)\n",
        "    else:\n",
        "        prediction.append(0)\n",
        "# Getting The Accuracy\n",
        "from sklearn.metrics import accuracy_score\n",
        "\n",
        "accuracy = accuracy_score(list(y_test), prediction)\n",
        "\n",
        "print(\"Model Accuracy : \", accuracy)"
      ]
    },
    {
      "cell_type": "markdown",
      "metadata": {
        "id": "9sZleKCwbGq3"
      },
      "source": [
        "*Time distributed*"
      ]
    },
    {
      "cell_type": "code",
      "execution_count": null,
      "metadata": {
        "colab": {
          "base_uri": "https://localhost:8080/"
        },
        "id": "dp8biyHUbndV",
        "outputId": "46c4c60d-b0ec-440d-d6ee-4d79085e75ee"
      },
      "outputs": [
        {
          "name": "stdout",
          "output_type": "stream",
          "text": [
            "Model: \"model_1\"\n",
            "_________________________________________________________________\n",
            " Layer (type)                Output Shape              Param #   \n",
            "=================================================================\n",
            " inputs (InputLayer)         [(None, 40)]              0         \n",
            "                                                                 \n",
            " embedding_12 (Embedding)    (None, 40, 128)           10622976  \n",
            "                                                                 \n",
            " lstm_12 (LSTM)              (None, 40, 128)           131584    \n",
            "                                                                 \n",
            " time_distributed (TimeDistr  (None, 40, 128)          16512     \n",
            " ibuted)                                                         \n",
            "                                                                 \n",
            " flatten (Flatten)           (None, 5120)              0         \n",
            "                                                                 \n",
            " activation_2 (Activation)   (None, 5120)              0         \n",
            "                                                                 \n",
            " dropout_1 (Dropout)         (None, 5120)              0         \n",
            "                                                                 \n",
            " out_layer (Dense)           (None, 1)                 5121      \n",
            "                                                                 \n",
            " activation_3 (Activation)   (None, 1)                 0         \n",
            "                                                                 \n",
            "=================================================================\n",
            "Total params: 10,776,193\n",
            "Trainable params: 10,776,193\n",
            "Non-trainable params: 0\n",
            "_________________________________________________________________\n",
            "114/114 [==============================] - 7s 60ms/step\n",
            "Model Accuracy :  0.9942052980132451\n"
          ]
        }
      ],
      "source": [
        "from tensorflow.keras.layers import Input, Activation, Dropout, TimeDistributed\n",
        "from tensorflow.keras.optimizers import Adam\n",
        "from tensorflow.keras.callbacks import EarlyStopping\n",
        "def RNN_TimeDis(maxword=total_words, embedding_size=128, max_len=40, n_unit_lstm=128, n_unit_dense=128):\n",
        "    inputs = Input(name='inputs', shape=[max_len])\n",
        "    layer = Embedding(maxword, embedding_size, input_length=max_len)(inputs)\n",
        "    # Embedding (input_dim: size of vocabolary, \n",
        "    # output_dim: dimension of dense embedding, \n",
        "    # input_length: length of input sequence)\n",
        "    layer = LSTM(n_unit_lstm, return_sequences=True)(layer)\n",
        "    layer = TimeDistributed(Dense(n_unit_dense))(layer)\n",
        "    layer = Flatten()(layer)\n",
        "    layer = Activation('relu')(layer)\n",
        "    layer = Dropout(0.5)(layer)\n",
        "    layer = Dense(1, name='out_layer')(layer)\n",
        "    layer = Activation('sigmoid')(layer)\n",
        "    model = Model(inputs=inputs,outputs=layer)\n",
        "    return model\n",
        "\n",
        "lstm_timedis=RNN_TimeDis()\n",
        "lstm_timedis.summary()\n",
        "lstm_timedis.compile(loss='binary_crossentropy', optimizer=Adam(), metrics=['accuracy'])\n",
        "pred = lstm_dense.predict(padded_test)\n",
        "\n",
        "# If The Predicted Value Is >0.95 (i.e., More Than 95%), It Is Real Else It Is Fake\n",
        "prediction = []\n",
        "for i in range(len(pred)):\n",
        "    if pred[i].item() > 0.95:\n",
        "        prediction.append(1)\n",
        "    else:\n",
        "        prediction.append(0)\n",
        "# Getting The Accuracy\n",
        "from sklearn.metrics import accuracy_score\n",
        "\n",
        "accuracy = accuracy_score(list(y_test), prediction)\n",
        "\n",
        "print(\"Model Accuracy : \", accuracy)"
      ]
    },
    {
      "cell_type": "code",
      "execution_count": null,
      "metadata": {
        "colab": {
          "base_uri": "https://localhost:8080/"
        },
        "id": "gFZP22HrSQuM",
        "outputId": "bbe51201-e1ed-4095-ae5d-a9c84b6bb8c0"
      },
      "outputs": [
        {
          "name": "stdout",
          "output_type": "stream",
          "text": [
            "Model: \"sequential_14\"\n",
            "_________________________________________________________________\n",
            " Layer (type)                Output Shape              Param #   \n",
            "=================================================================\n",
            " embedding_17 (Embedding)    (None, 40, 128)           10622976  \n",
            "                                                                 \n",
            " lstm_17 (LSTM)              (None, 128)               131584    \n",
            "                                                                 \n",
            " dense_19 (Dense)            (None, 64)                8256      \n",
            "                                                                 \n",
            " dropout (Dropout)           (None, 64)                0         \n",
            "                                                                 \n",
            " out_layer (Dense)           (None, 1)                 65        \n",
            "                                                                 \n",
            "=================================================================\n",
            "Total params: 10,762,881\n",
            "Trainable params: 10,762,881\n",
            "Non-trainable params: 0\n",
            "_________________________________________________________________\n",
            "Epoch 1/5\n",
            "182/182 [==============================] - 42s 218ms/step - loss: 0.1156 - acc: 0.9445 - val_loss: 0.0327 - val_acc: 0.9914\n",
            "Epoch 2/5\n",
            "182/182 [==============================] - 39s 213ms/step - loss: 0.0018 - acc: 0.9995 - val_loss: 0.0134 - val_acc: 0.9962\n",
            "Epoch 3/5\n",
            "182/182 [==============================] - 39s 212ms/step - loss: 0.0012 - acc: 0.9999 - val_loss: 0.0139 - val_acc: 0.9969\n",
            "Epoch 4/5\n",
            "182/182 [==============================] - 39s 212ms/step - loss: 3.3863e-05 - acc: 1.0000 - val_loss: 0.0135 - val_acc: 0.9976\n",
            "Epoch 5/5\n",
            "182/182 [==============================] - 39s 214ms/step - loss: 1.5401e-05 - acc: 1.0000 - val_loss: 0.0141 - val_acc: 0.9976\n",
            "114/114 [==============================] - 3s 25ms/step\n",
            "Model Accuracy :  0.9931015452538632\n"
          ]
        }
      ],
      "source": [
        "# Sequential Model\n",
        "model = Sequential()\n",
        "model.add(Input(name='inputs', shape=[40,]))\n",
        "# embeddidng layer\n",
        "model.add(Embedding(total_words, output_dim = 128))\n",
        "# LSTM\n",
        "model.add(LSTM(128))\n",
        "# Dense layers\n",
        "model.add(Dense(64, activation='relu'))\n",
        "model.add(Dropout(0.2))\n",
        "model.add(Dense(1, activation='sigmoid', name='out_layer'))\n",
        "\n",
        "model.compile(optimizer='adam', loss='binary_crossentropy', metrics=['acc'])\n",
        "model.summary()\n",
        "y_train = np.asarray(y_train)\n",
        "# train the model\n",
        "model.fit(padded_train, y_train, batch_size=64, validation_split=0.2, epochs=5)\n",
        "# make prediction\n",
        "pred = model.predict(padded_test)\n",
        "# if the predicted value is > 0.95 it is real else it is fake\n",
        "prediction = []\n",
        "for i in range(len(pred)):\n",
        "    if pred[i].item() > 0.95:\n",
        "        prediction.append(1)\n",
        "    else:\n",
        "        prediction.append(0)\n",
        "# getting the accuracy\n",
        "accuracy = accuracy_score(list(y_test), prediction)\n",
        "print(\"Model Accuracy : \", accuracy)"
      ]
    },
    {
      "cell_type": "markdown",
      "metadata": {
        "id": "mwC1TBaI5i81"
      },
      "source": [
        "# **padded by length = 4406**"
      ]
    },
    {
      "cell_type": "code",
      "execution_count": null,
      "metadata": {
        "id": "xRuZkBeQ5p4m"
      },
      "outputs": [],
      "source": [
        "!pip install scikeras\n",
        "from sklearn.model_selection import GridSearchCV \n",
        "from scikeras.wrappers import KerasClassifier\n",
        "\n",
        "def create_model():\n",
        "  model = Sequential()\n",
        "  model.add(Embedding(total_words, output_dim = 128))\n",
        "  model.add(LSTM(64))\n",
        "  model.add(Dense(32, activation='relu'))\n",
        "  model.add(Dense(1, activation='sigmoid'))\n",
        "  model.compile(optimizer='adam', loss='binary_crossentropy', metrics=['acc'])\n",
        "  model.summary()\n",
        "  return model\n",
        "\n",
        "# create model\n",
        "model = KerasClassifier(model=create_model, verbose=0)\n",
        "# define the grid search parameters\n",
        "batch_size = [32, 64, 128]\n",
        "epochs = [4]\n",
        "param_grid = dict(batch_size=batch_size, epochs=epochs)\n",
        "grid = GridSearchCV(estimator=model, param_grid=param_grid, n_jobs=-1, cv=3)\n",
        "y_train = np.asarray(y_train)\n",
        "grid_result = grid.fit(padded_train, y_train)\n",
        "\n",
        "# summarize results\n",
        "print(\"Best: %f using %s\" % (grid_result.best_score_, grid_result.best_params_))\n",
        "means = grid_result.cv_results_['mean_test_score']\n",
        "stds = grid_result.cv_results_['std_test_score']\n",
        "params = grid_result.cv_results_['params']\n",
        "for mean, stdev, param in zip(means, stds, params):\n",
        "    print(\"%f (%f) with: %r\" % (mean, stdev, param))"
      ]
    },
    {
      "cell_type": "code",
      "execution_count": null,
      "metadata": {
        "colab": {
          "base_uri": "https://localhost:8080/"
        },
        "id": "IK4C7AEZ8ROV",
        "outputId": "9a66609d-d72b-4620-e1d7-ac1e459f9fe0"
      },
      "outputs": [
        {
          "name": "stdout",
          "output_type": "stream",
          "text": [
            "Model: \"sequential_1\"\n",
            "_________________________________________________________________\n",
            " Layer (type)                Output Shape              Param #   \n",
            "=================================================================\n",
            " embedding_1 (Embedding)     (None, None, 128)         7718656   \n",
            "                                                                 \n",
            " lstm_1 (LSTM)               (None, 64)                49408     \n",
            "                                                                 \n",
            " dense_2 (Dense)             (None, 32)                2080      \n",
            "                                                                 \n",
            " dense_3 (Dense)             (None, 1)                 33        \n",
            "                                                                 \n",
            "=================================================================\n",
            "Total params: 7,770,177\n",
            "Trainable params: 7,770,177\n",
            "Non-trainable params: 0\n",
            "_________________________________________________________________\n",
            "Epoch 1/4\n",
            "363/363 [==============================] - 1412s 4s/step - loss: 0.6636 - acc: 0.6243 - val_loss: 0.6661 - val_acc: 0.6159\n",
            "Epoch 2/4\n",
            "363/363 [==============================] - 1429s 4s/step - loss: 0.6624 - acc: 0.6243 - val_loss: 0.6663 - val_acc: 0.6159\n",
            "Epoch 3/4\n",
            "363/363 [==============================] - 1383s 4s/step - loss: 0.6625 - acc: 0.6244 - val_loss: 0.6669 - val_acc: 0.6159\n",
            "Epoch 4/4\n",
            "363/363 [==============================] - 1423s 4s/step - loss: 0.6624 - acc: 0.6244 - val_loss: 0.6661 - val_acc: 0.6159\n",
            "114/114 [==============================] - 73s 636ms/step\n",
            "Model Accuracy :  0.6213083080320176\n"
          ]
        }
      ],
      "source": [
        "# Sequential Model\n",
        "model = Sequential()\n",
        "# embeddidng layer\n",
        "model.add(Embedding(total_words, output_dim = 128))\n",
        "# LSTM\n",
        "model.add(LSTM(64))\n",
        "# Dense layers\n",
        "model.add(Dense(32, activation='relu'))\n",
        "model.add(Dense(1, activation='sigmoid'))\n",
        "model.compile(optimizer='adam', loss='binary_crossentropy', metrics=['acc'])\n",
        "model.summary()\n",
        "\n",
        "y_train = np.asarray(y_train)\n",
        "# train the model\n",
        "trained = model.fit(padded_train, y_train, batch_size=32, validation_split=0.2, epochs=4)\n",
        "# make prediction\n",
        "pred = model.predict(padded_test)\n",
        "# if the predicted value is > 0.95 it is real else it is fake\n",
        "prediction = []\n",
        "for i in range(len(pred)):\n",
        "    if pred[i].item() > 0.95:\n",
        "        prediction.append(1)\n",
        "    else:\n",
        "        prediction.append(0)\n",
        "# getting the accuracy\n",
        "accuracy = accuracy_score(list(y_test), prediction)\n",
        "print(\"Model Accuracy : \", accuracy)"
      ]
    }
  ],
  "metadata": {
    "colab": {
      "provenance": []
    },
    "kernelspec": {
      "display_name": "Python 3.9.1 64-bit",
      "language": "python",
      "name": "python3"
    },
    "language_info": {
      "codemirror_mode": {
        "name": "ipython",
        "version": 3
      },
      "file_extension": ".py",
      "mimetype": "text/x-python",
      "name": "python",
      "nbconvert_exporter": "python",
      "pygments_lexer": "ipython3",
      "version": "3.9.1"
    },
    "vscode": {
      "interpreter": {
        "hash": "4cff3abf1678755e0069fd79299a535fe1940bcd71a6b01d9f4386710b2b163f"
      }
    }
  },
  "nbformat": 4,
  "nbformat_minor": 0
}
